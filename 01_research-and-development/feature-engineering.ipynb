{
 "cells": [
  {
   "cell_type": "markdown",
   "id": "0ec46f35-06c9-4387-a949-8d27804f87db",
   "metadata": {},
   "source": [
    "# Feature Engineering for the House Price Model pipeline\n",
    "\n",
    "This notebook will handle Feature Engineering. Here. we'll tackle the following:\n",
    "\n",
    "1. Missing values\n",
    "2. Non-Gaussian distributed features\n",
    "3. Categorical Features: Removing the rare labels\n",
    "4. Ctegorical Features: convert strings to numbers\n",
    "5. Handling Multicollinearity\n",
    "6. Scaling the dataframe\n",
    "\n",
    "Now, we proceed to import the packages"
   ]
  },
  {
   "cell_type": "code",
   "execution_count": 1,
   "id": "eefb830e-0455-48c2-a6b2-c4da5700b9be",
   "metadata": {},
   "outputs": [],
   "source": [
    "# Import Packages\n",
    "# To handle datasets\n",
    "import numpy as np\n",
    "import pandas as pd\n",
    "\n",
    "# for plotting visuals\n",
    "import matplotlib.pyplot as plt\n",
    "\n",
    "# for the yeo-johnson transformation\n",
    "import scipy.stats as stats\n",
    "\n",
    "# For splitting dataset\n",
    "from sklearn.model_selection import train_test_split\n",
    "\n",
    "# Feature Scaling\n",
    "from sklearn.preprocessing import StandardScaler\n",
    "\n",
    "# To save the trained scaler class\n",
    "import joblib\n",
    "\n",
    "# To visualize all the columns in the dataframe\n",
    "pd.pandas.set_option('display.max_columns', None)"
   ]
  },
  {
   "cell_type": "code",
   "execution_count": 2,
   "id": "35a5f531-2796-4d0f-921f-cc8fbdd47ff5",
   "metadata": {},
   "outputs": [
    {
     "name": "stdout",
     "output_type": "stream",
     "text": [
      "(14448, 16)\n"
     ]
    },
    {
     "data": {
      "text/html": [
       "<div>\n",
       "<style scoped>\n",
       "    .dataframe tbody tr th:only-of-type {\n",
       "        vertical-align: middle;\n",
       "    }\n",
       "\n",
       "    .dataframe tbody tr th {\n",
       "        vertical-align: top;\n",
       "    }\n",
       "\n",
       "    .dataframe thead th {\n",
       "        text-align: right;\n",
       "    }\n",
       "</style>\n",
       "<table border=\"1\" class=\"dataframe\">\n",
       "  <thead>\n",
       "    <tr style=\"text-align: right;\">\n",
       "      <th></th>\n",
       "      <th>longitude</th>\n",
       "      <th>latitude</th>\n",
       "      <th>housing_median_age</th>\n",
       "      <th>total_rooms</th>\n",
       "      <th>total_bedrooms</th>\n",
       "      <th>population</th>\n",
       "      <th>households</th>\n",
       "      <th>median_income</th>\n",
       "      <th>median_house_value</th>\n",
       "      <th>ocean_proximity</th>\n",
       "      <th>age_group</th>\n",
       "      <th>income_bracket</th>\n",
       "      <th>rooms_per_household</th>\n",
       "      <th>bedrooms_per_household</th>\n",
       "      <th>population_per_household</th>\n",
       "      <th>median_income_per_household</th>\n",
       "    </tr>\n",
       "  </thead>\n",
       "  <tbody>\n",
       "    <tr>\n",
       "      <th>0</th>\n",
       "      <td>-118.02</td>\n",
       "      <td>33.93</td>\n",
       "      <td>35.0</td>\n",
       "      <td>2400.0</td>\n",
       "      <td>398.0</td>\n",
       "      <td>1218.0</td>\n",
       "      <td>408.0</td>\n",
       "      <td>4.1312</td>\n",
       "      <td>193800.0</td>\n",
       "      <td>&lt;1H OCEAN</td>\n",
       "      <td>middle-aged</td>\n",
       "      <td>low-income</td>\n",
       "      <td>6.0</td>\n",
       "      <td>1.0</td>\n",
       "      <td>3.0</td>\n",
       "      <td>0.010125</td>\n",
       "    </tr>\n",
       "    <tr>\n",
       "      <th>1</th>\n",
       "      <td>-117.09</td>\n",
       "      <td>32.79</td>\n",
       "      <td>20.0</td>\n",
       "      <td>2183.0</td>\n",
       "      <td>534.0</td>\n",
       "      <td>999.0</td>\n",
       "      <td>496.0</td>\n",
       "      <td>2.8631</td>\n",
       "      <td>169700.0</td>\n",
       "      <td>NEAR OCEAN</td>\n",
       "      <td>young</td>\n",
       "      <td>low-income</td>\n",
       "      <td>4.0</td>\n",
       "      <td>1.0</td>\n",
       "      <td>2.0</td>\n",
       "      <td>0.005772</td>\n",
       "    </tr>\n",
       "    <tr>\n",
       "      <th>2</th>\n",
       "      <td>-120.14</td>\n",
       "      <td>34.59</td>\n",
       "      <td>24.0</td>\n",
       "      <td>1601.0</td>\n",
       "      <td>282.0</td>\n",
       "      <td>731.0</td>\n",
       "      <td>285.0</td>\n",
       "      <td>4.2026</td>\n",
       "      <td>259800.0</td>\n",
       "      <td>NEAR OCEAN</td>\n",
       "      <td>young</td>\n",
       "      <td>low-income</td>\n",
       "      <td>6.0</td>\n",
       "      <td>1.0</td>\n",
       "      <td>3.0</td>\n",
       "      <td>0.014746</td>\n",
       "    </tr>\n",
       "    <tr>\n",
       "      <th>3</th>\n",
       "      <td>-121.00</td>\n",
       "      <td>39.26</td>\n",
       "      <td>14.0</td>\n",
       "      <td>810.0</td>\n",
       "      <td>151.0</td>\n",
       "      <td>302.0</td>\n",
       "      <td>138.0</td>\n",
       "      <td>3.1094</td>\n",
       "      <td>136100.0</td>\n",
       "      <td>INLAND</td>\n",
       "      <td>minor</td>\n",
       "      <td>low-income</td>\n",
       "      <td>6.0</td>\n",
       "      <td>1.0</td>\n",
       "      <td>2.0</td>\n",
       "      <td>0.022532</td>\n",
       "    </tr>\n",
       "    <tr>\n",
       "      <th>4</th>\n",
       "      <td>-122.45</td>\n",
       "      <td>37.77</td>\n",
       "      <td>52.0</td>\n",
       "      <td>3188.0</td>\n",
       "      <td>708.0</td>\n",
       "      <td>1526.0</td>\n",
       "      <td>664.0</td>\n",
       "      <td>3.3068</td>\n",
       "      <td>500001.0</td>\n",
       "      <td>NEAR BAY</td>\n",
       "      <td>elderly</td>\n",
       "      <td>low-income</td>\n",
       "      <td>5.0</td>\n",
       "      <td>1.0</td>\n",
       "      <td>2.0</td>\n",
       "      <td>0.004980</td>\n",
       "    </tr>\n",
       "  </tbody>\n",
       "</table>\n",
       "</div>"
      ],
      "text/plain": [
       "   longitude  latitude  housing_median_age  total_rooms  total_bedrooms  \\\n",
       "0    -118.02     33.93                35.0       2400.0           398.0   \n",
       "1    -117.09     32.79                20.0       2183.0           534.0   \n",
       "2    -120.14     34.59                24.0       1601.0           282.0   \n",
       "3    -121.00     39.26                14.0        810.0           151.0   \n",
       "4    -122.45     37.77                52.0       3188.0           708.0   \n",
       "\n",
       "   population  households  median_income  median_house_value ocean_proximity  \\\n",
       "0      1218.0       408.0         4.1312            193800.0       <1H OCEAN   \n",
       "1       999.0       496.0         2.8631            169700.0      NEAR OCEAN   \n",
       "2       731.0       285.0         4.2026            259800.0      NEAR OCEAN   \n",
       "3       302.0       138.0         3.1094            136100.0          INLAND   \n",
       "4      1526.0       664.0         3.3068            500001.0        NEAR BAY   \n",
       "\n",
       "     age_group income_bracket  rooms_per_household  bedrooms_per_household  \\\n",
       "0  middle-aged     low-income                  6.0                     1.0   \n",
       "1        young     low-income                  4.0                     1.0   \n",
       "2        young     low-income                  6.0                     1.0   \n",
       "3        minor     low-income                  6.0                     1.0   \n",
       "4      elderly     low-income                  5.0                     1.0   \n",
       "\n",
       "   population_per_household  median_income_per_household  \n",
       "0                       3.0                     0.010125  \n",
       "1                       2.0                     0.005772  \n",
       "2                       3.0                     0.014746  \n",
       "3                       2.0                     0.022532  \n",
       "4                       2.0                     0.004980  "
      ]
     },
     "execution_count": 2,
     "metadata": {},
     "output_type": "execute_result"
    }
   ],
   "source": [
    "# load dataset\n",
    "data = pd.read_csv('train.csv')\n",
    "\n",
    "# rows and columns of the data\n",
    "print(data.shape)\n",
    "\n",
    "# visualise the dataset\n",
    "data.head()"
   ]
  },
  {
   "cell_type": "markdown",
   "id": "6785be67-6885-4118-9ebe-80fa77f3c5c7",
   "metadata": {},
   "source": [
    "## Separate dataset into train and test sets\n",
    "\n",
    "When engineering features, some techniques learn parameters from data. it is important to learn these parameters from the train set, in order to avoid overfitting.\n",
    "\n",
    "Typically, our feature engineering techniques will learn things like mean, mode, exponents of the yeo-johnson transformation, frequencies of cayegory, and caegory to number mappings from the train set\n",
    "\n",
    "### Reproducibility: Setting the seed\n",
    "\n",
    "With the aim to ensure reproducibility between runs of the same notebook, but also between the research and production environment, for each step that includes some element of randomness, it is extremely important that we **set the seed**."
   ]
  },
  {
   "cell_type": "code",
   "execution_count": 3,
   "id": "1b0cea8d-f664-412b-af60-92ccac1f725c",
   "metadata": {},
   "outputs": [
    {
     "data": {
      "text/plain": [
       "((13003, 12), (1445, 12))"
      ]
     },
     "execution_count": 3,
     "metadata": {},
     "output_type": "execute_result"
    }
   ],
   "source": [
    "# Let's separate into train and test set\n",
    "# Remember to set the seed (random_state for this sklearn function)\n",
    "\n",
    "X_train, X_test, y_train, y_test = train_test_split(\n",
    "    data.drop(['total_bedrooms', 'households', 'age_group', 'median_house_value'], axis=1), # predictive variables\n",
    "    data['median_house_value'], # target\n",
    "    test_size=0.1, # portion of dataset to allocate to test set\n",
    "    random_state=0, # we are setting the seed here\n",
    ")\n",
    "\n",
    "X_train.shape, X_test.shape"
   ]
  },
  {
   "cell_type": "markdown",
   "id": "cbcd4127-1aac-4dbb-b1c5-41c2595eee16",
   "metadata": {
    "tags": []
   },
   "source": [
    "## Feature Engineering\n",
    "\n",
    "We're going to embark on the core Feature Engineering Tasks in order to tacke:\n",
    "\n",
    "    Missing Values\n",
    "    Temporal Values\n",
    "    Non-Gaussian distributed values\n",
    "    Categorical features: remove rare labels, if any\n",
    "    Categorical Features: convert strings to numbers\n",
    "    Put the variables in a similar scale\n",
    "    \n",
    "### Target/ Label\n",
    "\n",
    "We apply the Yeo-Johnson transformation to the target variable"
   ]
  },
  {
   "cell_type": "code",
   "execution_count": 4,
   "id": "e114c62d-8ad4-43a0-957c-945e23927bec",
   "metadata": {},
   "outputs": [],
   "source": [
    "y_train = pd.Series(stats.yeojohnson(y_train)[0], name='median_house_value')\n",
    "y_test = pd.Series(stats.yeojohnson(y_test)[0], name='median_house_value')"
   ]
  },
  {
   "cell_type": "code",
   "execution_count": 5,
   "id": "e002dc24-9824-45ab-880f-728b02257df6",
   "metadata": {},
   "outputs": [
    {
     "data": {
      "text/plain": [
       "0    30.324818\n",
       "1    23.846476\n",
       "2    30.324818\n",
       "3    30.324818\n",
       "4    24.894438\n",
       "Name: median_house_value, dtype: float64"
      ]
     },
     "execution_count": 5,
     "metadata": {},
     "output_type": "execute_result"
    }
   ],
   "source": [
    "y_train.head()"
   ]
  },
  {
   "cell_type": "markdown",
   "id": "2c69e132-2f3f-4011-bc8f-bb4b9faa4a47",
   "metadata": {},
   "source": [
    "### Missing Values\n",
    "\n",
    "#### Categorical Features\n",
    "\n",
    "Replacing missing values with the string \"missing\" in those variables with missing data. Alternatively, we will replace missing data with the most frequent category in those variables which contain fewer observations without values."
   ]
  },
  {
   "cell_type": "code",
   "execution_count": 6,
   "id": "988713a8-57b4-431e-83e1-2481f99c2748",
   "metadata": {},
   "outputs": [
    {
     "data": {
      "text/plain": [
       "2"
      ]
     },
     "execution_count": 6,
     "metadata": {},
     "output_type": "execute_result"
    }
   ],
   "source": [
    "# let's identify the categorical variables\n",
    "# we will capture those of type object\n",
    "# remove age_group, because it is not in the training dataset\n",
    "cat_vars = [var for var in data.columns if data[var].dtype == 'O' and var != 'age_group']\n",
    "\n",
    "# number of categorical variables\n",
    "len(cat_vars)"
   ]
  },
  {
   "cell_type": "code",
   "execution_count": 7,
   "id": "20c678d2-15fb-4dd3-bf4b-54bcd5722c58",
   "metadata": {},
   "outputs": [
    {
     "data": {
      "text/plain": [
       "Series([], dtype: float64)"
      ]
     },
     "execution_count": 7,
     "metadata": {},
     "output_type": "execute_result"
    }
   ],
   "source": [
    "# make a list of the categorical variables that contain missing values\n",
    "\n",
    "cat_vars_with_na = [\n",
    "    var for var in cat_vars\n",
    "    if X_train[var].isnull().sum() > 0\n",
    "]\n",
    "\n",
    "# print percentage of missing values per variable\n",
    "X_train[cat_vars_with_na ].isnull().mean().sort_values(ascending=False)"
   ]
  },
  {
   "cell_type": "markdown",
   "id": "7c3e167c-79ea-4fc9-b6b5-a4da202bf30e",
   "metadata": {},
   "source": [
    "This confirms that there are no null values in the dataframe, in this case. We leave this in, because we might encounter such in the testing data"
   ]
  },
  {
   "cell_type": "code",
   "execution_count": 8,
   "id": "08f15efb-584c-4bfb-9d79-29117f85d1bf",
   "metadata": {},
   "outputs": [],
   "source": [
    "# variables to impute with the string missing\n",
    "with_string_missing = [\n",
    "    var for var in cat_vars_with_na if X_train[var].isnull().mean() > 0.1]\n",
    "\n",
    "# variables to impute with the most frequent category\n",
    "with_frequent_category = [\n",
    "    var for var in cat_vars_with_na if X_train[var].isnull().mean() < 0.1]"
   ]
  },
  {
   "cell_type": "code",
   "execution_count": 9,
   "id": "617b7f50-b939-4c3c-ae59-252a7c52b098",
   "metadata": {},
   "outputs": [
    {
     "data": {
      "text/plain": [
       "[]"
      ]
     },
     "execution_count": 9,
     "metadata": {},
     "output_type": "execute_result"
    }
   ],
   "source": [
    "with_string_missing"
   ]
  },
  {
   "cell_type": "code",
   "execution_count": 10,
   "id": "fe181748-d72b-4334-aa81-237cb6e9eb1c",
   "metadata": {},
   "outputs": [],
   "source": [
    "# replace missing values with new label: \"Missing\"\n",
    "\n",
    "X_train[with_string_missing] = X_train[with_string_missing].fillna('Missing')\n",
    "X_test[with_string_missing] = X_test[with_string_missing].fillna('Missing')"
   ]
  },
  {
   "cell_type": "code",
   "execution_count": 11,
   "id": "02a39a50-be4d-4ce5-8cb8-1b192db5cbbe",
   "metadata": {},
   "outputs": [],
   "source": [
    "for var in with_frequent_category:\n",
    "    \n",
    "    # there can be more than 1 mode in a variable\n",
    "    # we take the first one with [0]    \n",
    "    mode = X_train[var].mode()[0]\n",
    "    \n",
    "    print(var, mode)\n",
    "    \n",
    "    X_train[var].fillna(mode, inplace=True)\n",
    "    X_test[var].fillna(mode, inplace=True)"
   ]
  },
  {
   "cell_type": "code",
   "execution_count": 12,
   "id": "1361f887-dbcf-43ae-acf9-305331d63d87",
   "metadata": {},
   "outputs": [
    {
     "data": {
      "text/plain": [
       "[]"
      ]
     },
     "execution_count": 12,
     "metadata": {},
     "output_type": "execute_result"
    }
   ],
   "source": [
    "# check that test set does not contain null values in the engineered variables\n",
    "\n",
    "[var for var in cat_vars_with_na if X_test[var].isnull().sum() > 0]"
   ]
  },
  {
   "cell_type": "markdown",
   "id": "bfe34834-6bfa-4a57-8e66-2cd153787365",
   "metadata": {},
   "source": [
    "#### Numerical Features\n",
    "\n",
    "To engineer missing values in numerical variables, we will:\n",
    "\n",
    "- add a binary missing indicator variable\n",
    "- and then replace the missing variables in the original variable with the mean"
   ]
  },
  {
   "cell_type": "code",
   "execution_count": 13,
   "id": "2454a94b-de28-44ce-ac40-763745c95f89",
   "metadata": {},
   "outputs": [
    {
     "data": {
      "text/plain": [
       "10"
      ]
     },
     "execution_count": 13,
     "metadata": {},
     "output_type": "execute_result"
    }
   ],
   "source": [
    "# now let's identify the numerical variables\n",
    "\n",
    "num_vars = [\n",
    "    var for var in X_train.columns if var not in cat_vars\n",
    "]\n",
    "\n",
    "# number of numerical variables\n",
    "len(num_vars)"
   ]
  },
  {
   "cell_type": "code",
   "execution_count": 14,
   "id": "65bc7b4f-2ef7-4503-a5de-80ec630c7e76",
   "metadata": {},
   "outputs": [
    {
     "data": {
      "text/plain": [
       "Series([], dtype: float64)"
      ]
     },
     "execution_count": 14,
     "metadata": {},
     "output_type": "execute_result"
    }
   ],
   "source": [
    "# make a list with the numerical variables that contain missing values\n",
    "vars_with_na = [\n",
    "    var for var in num_vars\n",
    "    if X_train[var].isnull().sum() > 0\n",
    "]\n",
    "\n",
    "# print percentage of missing values per variable\n",
    "X_train[vars_with_na].isnull().mean()"
   ]
  },
  {
   "cell_type": "markdown",
   "id": "5b95d2cd-36e3-415b-b86f-810f70cbd99b",
   "metadata": {},
   "source": [
    "This also confirms that there are no null numerical values in the dataset."
   ]
  },
  {
   "cell_type": "code",
   "execution_count": 15,
   "id": "592022d6-8dba-4bf7-8aa0-7ab983e690ba",
   "metadata": {},
   "outputs": [
    {
     "data": {
      "text/plain": [
       "Series([], dtype: float64)"
      ]
     },
     "execution_count": 15,
     "metadata": {},
     "output_type": "execute_result"
    }
   ],
   "source": [
    "# replace missing values as we described above\n",
    "\n",
    "for var in vars_with_na:\n",
    "\n",
    "    # calculate the mean using the train set\n",
    "    mean_val = X_train[var].mean()\n",
    "    \n",
    "    print(var, mean_val)\n",
    "\n",
    "    # add binary missing indicator (in train and test)\n",
    "    X_train[var + '_na'] = np.where(X_train[var].isnull(), 1, 0)\n",
    "    X_test[var + '_na'] = np.where(X_test[var].isnull(), 1, 0)\n",
    "\n",
    "    # replace missing values by the mean\n",
    "    # (in train and test)\n",
    "    X_train[var].fillna(mean_val, inplace=True)\n",
    "    X_test[var].fillna(mean_val, inplace=True)\n",
    "\n",
    "# check that we have no more missing values in the engineered variables\n",
    "X_train[vars_with_na].isnull().sum()"
   ]
  },
  {
   "cell_type": "code",
   "execution_count": 16,
   "id": "905fb90a-04a8-48ca-b6b4-2c162d453c42",
   "metadata": {},
   "outputs": [
    {
     "data": {
      "text/plain": [
       "[]"
      ]
     },
     "execution_count": 16,
     "metadata": {},
     "output_type": "execute_result"
    }
   ],
   "source": [
    "# check that test set does not contain null values in the engineered variables\n",
    "\n",
    "[var for var in vars_with_na if X_test[var].isnull().sum() > 0]"
   ]
  },
  {
   "cell_type": "markdown",
   "id": "0d09e24b-6466-4169-aa33-c47504f80a03",
   "metadata": {},
   "source": [
    "### Numerical feature transformation\n",
    "\n",
    "#### Yeo-Johnson transformation\n",
    "\n",
    "In the previous notebook, we observed that the numerical features are not normally distributed.\n",
    "\n",
    "We will apply the Yeo-Johnson Transformation to the continous variables, except `housing_median_age`"
   ]
  },
  {
   "cell_type": "code",
   "execution_count": 17,
   "id": "6eea3d45-9a9d-4598-b8bc-661d085e5aaf",
   "metadata": {},
   "outputs": [],
   "source": [
    "# Capture Discrete and Continous features\n",
    "discrete_vars = [var for var in num_vars if len(X_train[var].unique()) < 20]\n",
    "\n",
    "cont_vars = [var for var in num_vars if var not in discrete_vars+[\"longitude\", \"latitude\"]]"
   ]
  },
  {
   "cell_type": "code",
   "execution_count": 18,
   "id": "74879494-b91c-4d8f-a2bf-126a291ffedf",
   "metadata": {},
   "outputs": [
    {
     "data": {
      "text/plain": [
       "['total_rooms', 'population', 'median_income']"
      ]
     },
     "execution_count": 18,
     "metadata": {},
     "output_type": "execute_result"
    }
   ],
   "source": [
    "# Capture the Skewed variables from the continous variables for later\n",
    "\n",
    "skewed = [\"rooms_per_household\", \"population_per_household\", \"median_income_per_household\"]\n",
    "\n",
    "# Capture the remaining continuous features\n",
    "# remove the housing_median_age which already has good spread\n",
    "cont_vars = [item for item in cont_vars if item not in skewed and item != 'housing_median_age']\n",
    "cont_vars"
   ]
  },
  {
   "cell_type": "code",
   "execution_count": 19,
   "id": "33c10a8d-3944-456d-b809-2f3cc3d053b1",
   "metadata": {},
   "outputs": [
    {
     "name": "stdout",
     "output_type": "stream",
     "text": [
      "0.21541725528255878\n",
      "0.22690869314138018\n",
      "-0.20324383958710357\n"
     ]
    }
   ],
   "source": [
    "for var in cont_vars:\n",
    "    # The YeoJohnson Transformation learns the best exponent to transform the feature\n",
    "    # It has to learn from the Train Set\n",
    "    X_train[var], param = stats.yeojohnson(X_train[var])\n",
    "    # And apply the transformation to the test set with the same parameter\n",
    "    X_test[var] = stats.yeojohnson(X_test[var], lmbda=param)\n",
    "    print(param)"
   ]
  },
  {
   "cell_type": "code",
   "execution_count": 20,
   "id": "f5a8d622-f46b-4f13-8339-39d43b2410dc",
   "metadata": {},
   "outputs": [
    {
     "data": {
      "text/plain": [
       "[]"
      ]
     },
     "execution_count": 20,
     "metadata": {},
     "output_type": "execute_result"
    }
   ],
   "source": [
    "# check absence of na in the train set\n",
    "[var for var in X_train.columns if X_train[var].isnull().sum() > 0]"
   ]
  },
  {
   "cell_type": "code",
   "execution_count": 21,
   "id": "9e07afed-1e15-41ea-b7f9-5e5d7c5c164c",
   "metadata": {},
   "outputs": [
    {
     "data": {
      "text/plain": [
       "[]"
      ]
     },
     "execution_count": 21,
     "metadata": {},
     "output_type": "execute_result"
    }
   ],
   "source": [
    "# check absence of na in the test set\n",
    "[var for var in X_train.columns if X_test[var].isnull().sum() > 0]"
   ]
  },
  {
   "cell_type": "markdown",
   "id": "6fdf6ddc-1999-46e4-b07a-9eea224e0a09",
   "metadata": {},
   "source": [
    "### Binarize Skewed Features\n",
    "\n",
    "We will now transform the skewed features into binary features"
   ]
  },
  {
   "cell_type": "code",
   "execution_count": 22,
   "id": "3bdc715d-f258-440f-b3b6-7bcf89d47c46",
   "metadata": {},
   "outputs": [
    {
     "data": {
      "text/plain": [
       "['rooms_per_household',\n",
       " 'population_per_household',\n",
       " 'median_income_per_household']"
      ]
     },
     "execution_count": 22,
     "metadata": {},
     "output_type": "execute_result"
    }
   ],
   "source": [
    "skewed"
   ]
  },
  {
   "cell_type": "code",
   "execution_count": 23,
   "id": "3da89919-198c-4c59-b5cc-eae2c930a3a5",
   "metadata": {},
   "outputs": [],
   "source": [
    "for var in skewed:\n",
    "    # map the feature values into 0 and 1\n",
    "    X_train[var] = np.where(X_train[var]<=1, 0, 1)\n",
    "    X_test[var] = np.where(X_test[var]<=1, 0, 1)"
   ]
  },
  {
   "cell_type": "code",
   "execution_count": 24,
   "id": "7940873d-53e1-4564-bca6-cc0f32bad2df",
   "metadata": {},
   "outputs": [
    {
     "data": {
      "text/html": [
       "<div>\n",
       "<style scoped>\n",
       "    .dataframe tbody tr th:only-of-type {\n",
       "        vertical-align: middle;\n",
       "    }\n",
       "\n",
       "    .dataframe tbody tr th {\n",
       "        vertical-align: top;\n",
       "    }\n",
       "\n",
       "    .dataframe thead th {\n",
       "        text-align: right;\n",
       "    }\n",
       "</style>\n",
       "<table border=\"1\" class=\"dataframe\">\n",
       "  <thead>\n",
       "    <tr style=\"text-align: right;\">\n",
       "      <th></th>\n",
       "      <th>longitude</th>\n",
       "      <th>latitude</th>\n",
       "      <th>housing_median_age</th>\n",
       "      <th>total_rooms</th>\n",
       "      <th>population</th>\n",
       "      <th>median_income</th>\n",
       "      <th>ocean_proximity</th>\n",
       "      <th>income_bracket</th>\n",
       "      <th>rooms_per_household</th>\n",
       "      <th>bedrooms_per_household</th>\n",
       "      <th>population_per_household</th>\n",
       "      <th>median_income_per_household</th>\n",
       "    </tr>\n",
       "  </thead>\n",
       "  <tbody>\n",
       "    <tr>\n",
       "      <th>3439</th>\n",
       "      <td>-122.34</td>\n",
       "      <td>37.57</td>\n",
       "      <td>52.0</td>\n",
       "      <td>20.504120</td>\n",
       "      <td>16.101779</td>\n",
       "      <td>1.790325</td>\n",
       "      <td>NEAR OCEAN</td>\n",
       "      <td>middle-income</td>\n",
       "      <td>1</td>\n",
       "      <td>1.0</td>\n",
       "      <td>1</td>\n",
       "      <td>0</td>\n",
       "    </tr>\n",
       "    <tr>\n",
       "      <th>7923</th>\n",
       "      <td>-118.27</td>\n",
       "      <td>33.99</td>\n",
       "      <td>41.0</td>\n",
       "      <td>14.136814</td>\n",
       "      <td>15.271650</td>\n",
       "      <td>0.930386</td>\n",
       "      <td>&lt;1H OCEAN</td>\n",
       "      <td>low-income</td>\n",
       "      <td>1</td>\n",
       "      <td>1.0</td>\n",
       "      <td>1</td>\n",
       "      <td>0</td>\n",
       "    </tr>\n",
       "    <tr>\n",
       "      <th>11951</th>\n",
       "      <td>-118.04</td>\n",
       "      <td>34.12</td>\n",
       "      <td>44.0</td>\n",
       "      <td>19.246507</td>\n",
       "      <td>16.335966</td>\n",
       "      <td>1.662016</td>\n",
       "      <td>INLAND</td>\n",
       "      <td>middle-income</td>\n",
       "      <td>1</td>\n",
       "      <td>1.0</td>\n",
       "      <td>1</td>\n",
       "      <td>0</td>\n",
       "    </tr>\n",
       "    <tr>\n",
       "      <th>9503</th>\n",
       "      <td>-122.20</td>\n",
       "      <td>37.40</td>\n",
       "      <td>30.0</td>\n",
       "      <td>20.640945</td>\n",
       "      <td>16.629978</td>\n",
       "      <td>1.900658</td>\n",
       "      <td>NEAR OCEAN</td>\n",
       "      <td>high-income</td>\n",
       "      <td>1</td>\n",
       "      <td>1.0</td>\n",
       "      <td>1</td>\n",
       "      <td>0</td>\n",
       "    </tr>\n",
       "    <tr>\n",
       "      <th>11459</th>\n",
       "      <td>-117.25</td>\n",
       "      <td>33.38</td>\n",
       "      <td>17.0</td>\n",
       "      <td>18.151568</td>\n",
       "      <td>16.873302</td>\n",
       "      <td>1.009613</td>\n",
       "      <td>&lt;1H OCEAN</td>\n",
       "      <td>low-income</td>\n",
       "      <td>1</td>\n",
       "      <td>1.0</td>\n",
       "      <td>1</td>\n",
       "      <td>0</td>\n",
       "    </tr>\n",
       "  </tbody>\n",
       "</table>\n",
       "</div>"
      ],
      "text/plain": [
       "       longitude  latitude  housing_median_age  total_rooms  population  \\\n",
       "3439     -122.34     37.57                52.0    20.504120   16.101779   \n",
       "7923     -118.27     33.99                41.0    14.136814   15.271650   \n",
       "11951    -118.04     34.12                44.0    19.246507   16.335966   \n",
       "9503     -122.20     37.40                30.0    20.640945   16.629978   \n",
       "11459    -117.25     33.38                17.0    18.151568   16.873302   \n",
       "\n",
       "       median_income ocean_proximity income_bracket  rooms_per_household  \\\n",
       "3439        1.790325      NEAR OCEAN  middle-income                    1   \n",
       "7923        0.930386       <1H OCEAN     low-income                    1   \n",
       "11951       1.662016          INLAND  middle-income                    1   \n",
       "9503        1.900658      NEAR OCEAN    high-income                    1   \n",
       "11459       1.009613       <1H OCEAN     low-income                    1   \n",
       "\n",
       "       bedrooms_per_household  population_per_household  \\\n",
       "3439                      1.0                         1   \n",
       "7923                      1.0                         1   \n",
       "11951                     1.0                         1   \n",
       "9503                      1.0                         1   \n",
       "11459                     1.0                         1   \n",
       "\n",
       "       median_income_per_household  \n",
       "3439                             0  \n",
       "7923                             0  \n",
       "11951                            0  \n",
       "9503                             0  \n",
       "11459                            0  "
      ]
     },
     "execution_count": 24,
     "metadata": {},
     "output_type": "execute_result"
    }
   ],
   "source": [
    "X_train.head()"
   ]
  },
  {
   "cell_type": "markdown",
   "id": "663b4063-282e-4a3e-bd78-703ca2547e4b",
   "metadata": {},
   "source": [
    "## Categorical Features\n",
    "\n",
    "### Apply Mappings\n",
    "\n",
    "We ahall map the ordinal feature `income_bracket`"
   ]
  },
  {
   "cell_type": "code",
   "execution_count": 25,
   "id": "de1fcc49-2501-474c-87d8-6cde5c894f27",
   "metadata": {},
   "outputs": [],
   "source": [
    "# re-map strings to numbers, which determine quality\n",
    "\n",
    "qual_mappings = {'low-income': 1, 'middle-income': 2, 'high-income': 3}\n",
    "\n",
    "X_train['income_bracket'] = X_train['income_bracket'].map(qual_mappings)\n",
    "X_test['income_bracket'] = X_test['income_bracket'].map(qual_mappings)"
   ]
  },
  {
   "cell_type": "code",
   "execution_count": 26,
   "id": "508000a4-5c3d-4c93-a986-fd23576ac5ea",
   "metadata": {},
   "outputs": [
    {
     "data": {
      "text/plain": [
       "[]"
      ]
     },
     "execution_count": 26,
     "metadata": {},
     "output_type": "execute_result"
    }
   ],
   "source": [
    "# check absence of na in the train set\n",
    "[var for var in X_train.columns if X_train[var].isnull().sum() > 0]"
   ]
  },
  {
   "cell_type": "markdown",
   "id": "6d2ac657-5dce-4f05-8dbf-15ce9962b3a8",
   "metadata": {},
   "source": [
    "## Removing Rare Labels\n",
    "\n",
    "We will group these categories that are present in less than 1% of the observations, and present them in the category called `Rare`"
   ]
  },
  {
   "cell_type": "code",
   "execution_count": 27,
   "id": "6b24364f-d103-4f1d-b529-6419b6c16b59",
   "metadata": {},
   "outputs": [
    {
     "data": {
      "text/plain": [
       "['ocean_proximity']"
      ]
     },
     "execution_count": 27,
     "metadata": {},
     "output_type": "execute_result"
    }
   ],
   "source": [
    "# Capturing the remaining Categorical Features\n",
    "\n",
    "cat_others = [var for var in cat_vars if var != 'income_bracket']\n",
    "\n",
    "cat_others"
   ]
  },
  {
   "cell_type": "code",
   "execution_count": 28,
   "id": "973aca0d-b8d1-4e18-89f9-d77246fb3f1f",
   "metadata": {},
   "outputs": [
    {
     "name": "stdout",
     "output_type": "stream",
     "text": [
      "ocean_proximity Index(['<1H OCEAN', 'INLAND', 'NEAR BAY', 'NEAR OCEAN'], dtype='object', name='ocean_proximity')\n",
      "\n"
     ]
    }
   ],
   "source": [
    "def find_frequent_labels(df, var, rare_perc):\n",
    "    # function finds the labels that are shared by more than\n",
    "    # a certain % of the houses in the dataset\n",
    "    df = df.copy()\n",
    "    tmp = df.groupby(var)[var].count() / len(df)\n",
    "    return tmp[tmp > rare_perc].index\n",
    "\n",
    "\n",
    "for var in cat_others:\n",
    "    # find the frequent categories\n",
    "    frequent_ls = find_frequent_labels(X_train, var, 0.01)\n",
    "    print(var, frequent_ls)\n",
    "    print()\n",
    "    # replace rare categories by the string \"Rare\"\n",
    "    X_train[var] = np.where(X_train[var].isin(\n",
    "        frequent_ls), X_train[var], 'Rare')\n",
    "    \n",
    "    X_test[var] = np.where(X_test[var].isin(\n",
    "        frequent_ls), X_test[var], 'Rare')"
   ]
  },
  {
   "cell_type": "code",
   "execution_count": 29,
   "id": "5cb5fbc3-52d5-48d4-ac8c-25fb0e55df65",
   "metadata": {},
   "outputs": [
    {
     "data": {
      "text/plain": [
       "array(['NEAR OCEAN', '<1H OCEAN', 'INLAND', 'NEAR BAY', 'Rare'],\n",
       "      dtype=object)"
      ]
     },
     "execution_count": 29,
     "metadata": {},
     "output_type": "execute_result"
    }
   ],
   "source": [
    "X_train['ocean_proximity'].unique()"
   ]
  },
  {
   "cell_type": "markdown",
   "id": "1efb5fb1-971a-4785-a290-58ca3c6e6418",
   "metadata": {},
   "source": [
    "## Encoding of Categorical Features\n",
    "\n",
    "Now we need to transform the strings of the catetorical features into numbers."
   ]
  },
  {
   "cell_type": "code",
   "execution_count": 30,
   "id": "e6098403-42b6-4638-b461-fb75d0a1ea1e",
   "metadata": {},
   "outputs": [],
   "source": [
    "# this function will assign discrete values to the strings of the variables,\n",
    "# so that the smaller value corresponds to the category that shows the smaller\n",
    "# mean house sale price\n",
    "\n",
    "def replace_categories(train, test, y_train, var, target):\n",
    "    tmp = pd.concat([X_train, y_train], axis=1)\n",
    "    # order the categories in a variable from that with the lowest\n",
    "    # house sale price, to that with the highest\n",
    "    ordered_labels = tmp.groupby([var])[target].mean().sort_values().index\n",
    "    # create a dictionary of ordered categories to integer values\n",
    "    ordinal_label = {k: i for i, k in enumerate(ordered_labels, 0)}\n",
    "    print(var, ordinal_label)\n",
    "    print()\n",
    "    # use the dictionary to replace the categorical strings by integers\n",
    "    train[var] = train[var].map(ordinal_label)\n",
    "    test[var] = test[var].map(ordinal_label)"
   ]
  },
  {
   "cell_type": "code",
   "execution_count": 31,
   "id": "58ec0242-538e-4aad-b986-8b3e3738da08",
   "metadata": {},
   "outputs": [
    {
     "name": "stdout",
     "output_type": "stream",
     "text": [
      "ocean_proximity {'<1H OCEAN': 0, 'INLAND': 1, 'NEAR BAY': 2, 'NEAR OCEAN': 3, 'Rare': 4}\n",
      "\n"
     ]
    }
   ],
   "source": [
    "for var in cat_others:\n",
    "    replace_categories(X_train, X_test, y_train, var, 'median_house_value')"
   ]
  },
  {
   "cell_type": "code",
   "execution_count": null,
   "id": "8b1bb40e-2b7e-486c-b07a-ef6df03cb21a",
   "metadata": {},
   "outputs": [],
   "source": []
  }
 ],
 "metadata": {
  "kernelspec": {
   "display_name": "Python 3 (ipykernel)",
   "language": "python",
   "name": "python3"
  },
  "language_info": {
   "codemirror_mode": {
    "name": "ipython",
    "version": 3
   },
   "file_extension": ".py",
   "mimetype": "text/x-python",
   "name": "python",
   "nbconvert_exporter": "python",
   "pygments_lexer": "ipython3",
   "version": "3.9.7"
  }
 },
 "nbformat": 4,
 "nbformat_minor": 5
}

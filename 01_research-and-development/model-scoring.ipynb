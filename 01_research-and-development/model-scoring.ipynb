{
 "cells": [
  {
   "cell_type": "markdown",
   "id": "040d9550-877d-45e7-9796-bf2b4e9326b5",
   "metadata": {},
   "source": [
    "# House Price Model Pipeline - Scoring New Data\n",
    "\n",
    "Here is a potential solution approach to Model Scoring"
   ]
  },
  {
   "cell_type": "code",
   "execution_count": 1,
   "id": "93e0eff6-c82b-492b-803f-8b46365ac150",
   "metadata": {},
   "outputs": [],
   "source": [
    "# to handle datasets\n",
    "import pandas as pd\n",
    "import numpy as np\n",
    "\n",
    "# for plotting\n",
    "import matplotlib.pyplot as plt\n",
    "\n",
    "# for the yeo-johnson transformation\n",
    "import scipy.stats as stats\n",
    "\n",
    "# to save the model\n",
    "import joblib"
   ]
  },
  {
   "cell_type": "code",
   "execution_count": 2,
   "id": "6012637b-dad3-4b11-ae9f-a63f428c0e43",
   "metadata": {},
   "outputs": [
    {
     "name": "stdout",
     "output_type": "stream",
     "text": [
      "(5911, 16)\n"
     ]
    },
    {
     "data": {
      "text/html": [
       "<div>\n",
       "<style scoped>\n",
       "    .dataframe tbody tr th:only-of-type {\n",
       "        vertical-align: middle;\n",
       "    }\n",
       "\n",
       "    .dataframe tbody tr th {\n",
       "        vertical-align: top;\n",
       "    }\n",
       "\n",
       "    .dataframe thead th {\n",
       "        text-align: right;\n",
       "    }\n",
       "</style>\n",
       "<table border=\"1\" class=\"dataframe\">\n",
       "  <thead>\n",
       "    <tr style=\"text-align: right;\">\n",
       "      <th></th>\n",
       "      <th>longitude</th>\n",
       "      <th>latitude</th>\n",
       "      <th>housing_median_age</th>\n",
       "      <th>total_rooms</th>\n",
       "      <th>total_bedrooms</th>\n",
       "      <th>population</th>\n",
       "      <th>households</th>\n",
       "      <th>median_income</th>\n",
       "      <th>median_house_value</th>\n",
       "      <th>ocean_proximity</th>\n",
       "      <th>age_group</th>\n",
       "      <th>income_bracket</th>\n",
       "      <th>rooms_per_household</th>\n",
       "      <th>bedrooms_per_household</th>\n",
       "      <th>population_per_household</th>\n",
       "      <th>median_income_per_household</th>\n",
       "    </tr>\n",
       "  </thead>\n",
       "  <tbody>\n",
       "    <tr>\n",
       "      <th>5906</th>\n",
       "      <td>-121.90</td>\n",
       "      <td>37.36</td>\n",
       "      <td>47.0</td>\n",
       "      <td>1007.0</td>\n",
       "      <td>245.0</td>\n",
       "      <td>581.0</td>\n",
       "      <td>240.0</td>\n",
       "      <td>2.9545</td>\n",
       "      <td>237500.0</td>\n",
       "      <td>&lt;1H OCEAN</td>\n",
       "      <td>middle-aged</td>\n",
       "      <td>low-income</td>\n",
       "      <td>4.0</td>\n",
       "      <td>1.0</td>\n",
       "      <td>2.0</td>\n",
       "      <td>0.012310</td>\n",
       "    </tr>\n",
       "    <tr>\n",
       "      <th>5907</th>\n",
       "      <td>-117.32</td>\n",
       "      <td>34.11</td>\n",
       "      <td>41.0</td>\n",
       "      <td>1229.0</td>\n",
       "      <td>302.0</td>\n",
       "      <td>994.0</td>\n",
       "      <td>270.0</td>\n",
       "      <td>1.4891</td>\n",
       "      <td>67300.0</td>\n",
       "      <td>INLAND</td>\n",
       "      <td>middle-aged</td>\n",
       "      <td>low-income</td>\n",
       "      <td>5.0</td>\n",
       "      <td>1.0</td>\n",
       "      <td>4.0</td>\n",
       "      <td>0.005515</td>\n",
       "    </tr>\n",
       "    <tr>\n",
       "      <th>5908</th>\n",
       "      <td>-117.91</td>\n",
       "      <td>33.67</td>\n",
       "      <td>16.0</td>\n",
       "      <td>7961.0</td>\n",
       "      <td>2276.0</td>\n",
       "      <td>5014.0</td>\n",
       "      <td>2116.0</td>\n",
       "      <td>3.5120</td>\n",
       "      <td>218400.0</td>\n",
       "      <td>&lt;1H OCEAN</td>\n",
       "      <td>minor</td>\n",
       "      <td>low-income</td>\n",
       "      <td>4.0</td>\n",
       "      <td>1.0</td>\n",
       "      <td>2.0</td>\n",
       "      <td>0.001660</td>\n",
       "    </tr>\n",
       "    <tr>\n",
       "      <th>5909</th>\n",
       "      <td>-121.28</td>\n",
       "      <td>37.82</td>\n",
       "      <td>10.0</td>\n",
       "      <td>9205.0</td>\n",
       "      <td>1774.0</td>\n",
       "      <td>5935.0</td>\n",
       "      <td>1673.0</td>\n",
       "      <td>3.6500</td>\n",
       "      <td>119400.0</td>\n",
       "      <td>INLAND</td>\n",
       "      <td>minor</td>\n",
       "      <td>low-income</td>\n",
       "      <td>6.0</td>\n",
       "      <td>1.0</td>\n",
       "      <td>4.0</td>\n",
       "      <td>0.002182</td>\n",
       "    </tr>\n",
       "    <tr>\n",
       "      <th>5910</th>\n",
       "      <td>-118.24</td>\n",
       "      <td>34.15</td>\n",
       "      <td>17.0</td>\n",
       "      <td>5282.0</td>\n",
       "      <td>1605.0</td>\n",
       "      <td>4116.0</td>\n",
       "      <td>1574.0</td>\n",
       "      <td>3.0520</td>\n",
       "      <td>209800.0</td>\n",
       "      <td>&lt;1H OCEAN</td>\n",
       "      <td>minor</td>\n",
       "      <td>low-income</td>\n",
       "      <td>3.0</td>\n",
       "      <td>1.0</td>\n",
       "      <td>3.0</td>\n",
       "      <td>0.001939</td>\n",
       "    </tr>\n",
       "  </tbody>\n",
       "</table>\n",
       "</div>"
      ],
      "text/plain": [
       "      longitude  latitude  housing_median_age  total_rooms  total_bedrooms  \\\n",
       "5906    -121.90     37.36                47.0       1007.0           245.0   \n",
       "5907    -117.32     34.11                41.0       1229.0           302.0   \n",
       "5908    -117.91     33.67                16.0       7961.0          2276.0   \n",
       "5909    -121.28     37.82                10.0       9205.0          1774.0   \n",
       "5910    -118.24     34.15                17.0       5282.0          1605.0   \n",
       "\n",
       "      population  households  median_income  median_house_value  \\\n",
       "5906       581.0       240.0         2.9545            237500.0   \n",
       "5907       994.0       270.0         1.4891             67300.0   \n",
       "5908      5014.0      2116.0         3.5120            218400.0   \n",
       "5909      5935.0      1673.0         3.6500            119400.0   \n",
       "5910      4116.0      1574.0         3.0520            209800.0   \n",
       "\n",
       "     ocean_proximity    age_group income_bracket  rooms_per_household  \\\n",
       "5906       <1H OCEAN  middle-aged     low-income                  4.0   \n",
       "5907          INLAND  middle-aged     low-income                  5.0   \n",
       "5908       <1H OCEAN        minor     low-income                  4.0   \n",
       "5909          INLAND        minor     low-income                  6.0   \n",
       "5910       <1H OCEAN        minor     low-income                  3.0   \n",
       "\n",
       "      bedrooms_per_household  population_per_household  \\\n",
       "5906                     1.0                       2.0   \n",
       "5907                     1.0                       4.0   \n",
       "5908                     1.0                       2.0   \n",
       "5909                     1.0                       4.0   \n",
       "5910                     1.0                       3.0   \n",
       "\n",
       "      median_income_per_household  \n",
       "5906                     0.012310  \n",
       "5907                     0.005515  \n",
       "5908                     0.001660  \n",
       "5909                     0.002182  \n",
       "5910                     0.001939  "
      ]
     },
     "execution_count": 2,
     "metadata": {},
     "output_type": "execute_result"
    }
   ],
   "source": [
    "# load the unseen / new dataset\n",
    "data = pd.read_csv('test.csv')\n",
    "\n",
    "# rows and columns of the data\n",
    "print(data.shape)\n",
    "\n",
    "# visualise the dataset\n",
    "data.tail()"
   ]
  },
  {
   "cell_type": "code",
   "execution_count": 3,
   "id": "b06335c8-c5ad-4f6c-9bbb-ab48a6e24fde",
   "metadata": {},
   "outputs": [
    {
     "data": {
      "text/plain": [
       "(5911, 12)"
      ]
     },
     "execution_count": 3,
     "metadata": {},
     "output_type": "execute_result"
    }
   ],
   "source": [
    "# drop the target and varibles removed from the train sat\n",
    "data.drop(['total_bedrooms', 'households', 'age_group', 'median_house_value'], axis=1, inplace=True)\n",
    "\n",
    "data.shape"
   ]
  },
  {
   "cell_type": "code",
   "execution_count": 4,
   "id": "597a75d3-c001-4658-a379-cc6f16844e71",
   "metadata": {},
   "outputs": [
    {
     "name": "stdout",
     "output_type": "stream",
     "text": [
      "<class 'pandas.core.frame.DataFrame'>\n",
      "RangeIndex: 5911 entries, 0 to 5910\n",
      "Data columns (total 12 columns):\n",
      " #   Column                       Non-Null Count  Dtype  \n",
      "---  ------                       --------------  -----  \n",
      " 0   longitude                    5911 non-null   float64\n",
      " 1   latitude                     5911 non-null   float64\n",
      " 2   housing_median_age           5911 non-null   float64\n",
      " 3   total_rooms                  5911 non-null   float64\n",
      " 4   population                   5911 non-null   float64\n",
      " 5   median_income                5911 non-null   float64\n",
      " 6   ocean_proximity              5911 non-null   object \n",
      " 7   income_bracket               5911 non-null   object \n",
      " 8   rooms_per_household          5911 non-null   float64\n",
      " 9   bedrooms_per_household       5711 non-null   float64\n",
      " 10  population_per_household     5911 non-null   float64\n",
      " 11  median_income_per_household  5911 non-null   float64\n",
      "dtypes: float64(10), object(2)\n",
      "memory usage: 554.3+ KB\n"
     ]
    }
   ],
   "source": [
    "data.info()"
   ]
  },
  {
   "cell_type": "markdown",
   "id": "d11c0b36-01f5-4b56-bffe-aef21a56e132",
   "metadata": {},
   "source": [
    "## Feature Engineering\n",
    "\n",
    "We need to transform the data based on what we did to the train dataset during the Feature Engineering Phase:\n",
    "\n",
    "    Missing Values\n",
    "    Temporal Values\n",
    "    Non-Gaussian distributed values\n",
    "    Categorical features: remove rare labels, if any\n",
    "    Categorical Features: convert strings to numbers\n",
    "    Put the variables in a similar scale\n",
    "    \n",
    "### Missing Values\n",
    "\n",
    "#### Categorical Features\n",
    "\n",
    "Replacing missing values with the string \"missing\" in those variables with missing data. Alternatively, we will replace missing data with the most frequent category in those variables which contain fewer observations without values."
   ]
  },
  {
   "cell_type": "code",
   "execution_count": 5,
   "id": "37c9cae4-05bd-4935-97dc-7e729f9b0ccb",
   "metadata": {},
   "outputs": [
    {
     "data": {
      "text/plain": [
       "2"
      ]
     },
     "execution_count": 5,
     "metadata": {},
     "output_type": "execute_result"
    }
   ],
   "source": [
    "# let's identify the categorical variables\n",
    "# we will capture those of type object\n",
    "# remove age_group, because it is not in the training dataset\n",
    "cat_vars = [var for var in data.columns if data[var].dtype == 'O']\n",
    "\n",
    "# number of categorical variables\n",
    "len(cat_vars)"
   ]
  },
  {
   "cell_type": "code",
   "execution_count": 6,
   "id": "b3e3c5a6-2c25-442a-94ab-35f5dba5a0c8",
   "metadata": {},
   "outputs": [
    {
     "data": {
      "text/plain": [
       "Series([], dtype: float64)"
      ]
     },
     "execution_count": 6,
     "metadata": {},
     "output_type": "execute_result"
    }
   ],
   "source": [
    "# make a list of the categorical variables that contain missing values\n",
    "\n",
    "cat_vars_with_na = [\n",
    "    var for var in cat_vars\n",
    "    if data[var].isnull().sum() > 0\n",
    "]\n",
    "\n",
    "# print percentage of missing values per variable\n",
    "data[cat_vars_with_na ].isnull().mean().sort_values(ascending=False)"
   ]
  },
  {
   "cell_type": "code",
   "execution_count": 7,
   "id": "28a7b8f9-17e7-43bb-84f3-166ed81a247f",
   "metadata": {},
   "outputs": [
    {
     "data": {
      "text/plain": [
       "[]"
      ]
     },
     "execution_count": 7,
     "metadata": {},
     "output_type": "execute_result"
    }
   ],
   "source": [
    "# variables to impute with the string missing\n",
    "with_string_missing = [\n",
    "    var for var in cat_vars_with_na if X_train[var].isnull().mean() > 0.1]\n",
    "\n",
    "# variables to impute with the most frequent category\n",
    "with_frequent_category = [\n",
    "    var for var in cat_vars_with_na if X_train[var].isnull().mean() < 0.1]\n",
    "\n",
    "with_string_missing"
   ]
  },
  {
   "cell_type": "code",
   "execution_count": 8,
   "id": "4bdb8ad2-a8e9-40eb-b069-f06429284327",
   "metadata": {},
   "outputs": [
    {
     "data": {
      "text/plain": [
       "[]"
      ]
     },
     "execution_count": 8,
     "metadata": {},
     "output_type": "execute_result"
    }
   ],
   "source": [
    "with_frequent_category"
   ]
  },
  {
   "cell_type": "code",
   "execution_count": 9,
   "id": "29c843fd-d8b4-48da-9454-5610e87ef9f5",
   "metadata": {},
   "outputs": [],
   "source": [
    "# replace missing values with new label: \"Missing\"\n",
    "\n",
    "data[with_string_missing] = data[with_string_missing].fillna('Missing')"
   ]
  },
  {
   "cell_type": "code",
   "execution_count": 10,
   "id": "8dab33b8-2287-4c8a-99d6-c6ec7de24d53",
   "metadata": {},
   "outputs": [],
   "source": [
    "for var in with_frequent_category:\n",
    "    \n",
    "    # there can be more than 1 mode in a variable\n",
    "    # we take the first one with [0]    \n",
    "    mode = data[var].mode()[0]\n",
    "    \n",
    "    print(var, mode)\n",
    "    \n",
    "    data[var].fillna(mode, inplace=True)"
   ]
  },
  {
   "cell_type": "markdown",
   "id": "7b7d5983-7f34-4b90-98bd-1c387e5a8f72",
   "metadata": {},
   "source": [
    "## Numerical Features\n",
    "\n",
    "To engineer missing values in numerical variables, we will:\n",
    "\n",
    "- add a binary missing indicator variable\n",
    "- and then replace the missing variables in the original variable with the mean"
   ]
  },
  {
   "cell_type": "code",
   "execution_count": 11,
   "id": "993de107-55bd-4448-b053-0e3d20ba0ca6",
   "metadata": {},
   "outputs": [
    {
     "data": {
      "text/plain": [
       "10"
      ]
     },
     "execution_count": 11,
     "metadata": {},
     "output_type": "execute_result"
    }
   ],
   "source": [
    "# now let's identify the numerical variables\n",
    "\n",
    "num_vars = [\n",
    "    var for var in data.columns if var not in cat_vars\n",
    "]\n",
    "\n",
    "# number of numerical variables\n",
    "len(num_vars)"
   ]
  },
  {
   "cell_type": "code",
   "execution_count": 12,
   "id": "50be3205-4692-4c3d-8df0-2ccf7d44c3ff",
   "metadata": {},
   "outputs": [
    {
     "data": {
      "text/plain": [
       "bedrooms_per_household    0.033835\n",
       "dtype: float64"
      ]
     },
     "execution_count": 12,
     "metadata": {},
     "output_type": "execute_result"
    }
   ],
   "source": [
    "# make a list with the numerical variables that contain missing values\n",
    "vars_with_na = [\n",
    "    var for var in num_vars\n",
    "    if data[var].isnull().sum() > 0\n",
    "]\n",
    "\n",
    "# print percentage of missing values per variable\n",
    "data[vars_with_na].isnull().mean()"
   ]
  },
  {
   "cell_type": "code",
   "execution_count": 13,
   "id": "834f97ee-e4f7-4a50-a63b-796ed37b4cc2",
   "metadata": {},
   "outputs": [
    {
     "name": "stdout",
     "output_type": "stream",
     "text": [
      "bedrooms_per_household 1.0427245666258098\n"
     ]
    },
    {
     "data": {
      "text/plain": [
       "bedrooms_per_household    0\n",
       "dtype: int64"
      ]
     },
     "execution_count": 13,
     "metadata": {},
     "output_type": "execute_result"
    }
   ],
   "source": [
    "# replace missing values as we described above\n",
    "\n",
    "for var in vars_with_na:\n",
    "\n",
    "    # calculate the mean using the train set\n",
    "    mean_val = data[var].mean()\n",
    "    \n",
    "    print(var, mean_val)\n",
    "\n",
    "    # add binary missing indicator (in train and test)\n",
    "    data[var + '_na'] = np.where(data[var].isnull(), 1, 0)\n",
    "\n",
    "    # replace missing values by the mean\n",
    "    # (in train and test)\n",
    "    data[var].fillna(mean_val, inplace=True)\n",
    "    \n",
    "# check that we have no more missing values in the engineered variables\n",
    "data[vars_with_na].isnull().sum()"
   ]
  },
  {
   "cell_type": "code",
   "execution_count": 14,
   "id": "90799ad2-62ab-43d1-9a05-cd6abb74d095",
   "metadata": {},
   "outputs": [
    {
     "data": {
      "text/html": [
       "<div>\n",
       "<style scoped>\n",
       "    .dataframe tbody tr th:only-of-type {\n",
       "        vertical-align: middle;\n",
       "    }\n",
       "\n",
       "    .dataframe tbody tr th {\n",
       "        vertical-align: top;\n",
       "    }\n",
       "\n",
       "    .dataframe thead th {\n",
       "        text-align: right;\n",
       "    }\n",
       "</style>\n",
       "<table border=\"1\" class=\"dataframe\">\n",
       "  <thead>\n",
       "    <tr style=\"text-align: right;\">\n",
       "      <th></th>\n",
       "      <th>bedrooms_per_household_na</th>\n",
       "    </tr>\n",
       "  </thead>\n",
       "  <tbody>\n",
       "    <tr>\n",
       "      <th>0</th>\n",
       "      <td>1</td>\n",
       "    </tr>\n",
       "    <tr>\n",
       "      <th>1</th>\n",
       "      <td>1</td>\n",
       "    </tr>\n",
       "    <tr>\n",
       "      <th>2</th>\n",
       "      <td>1</td>\n",
       "    </tr>\n",
       "    <tr>\n",
       "      <th>3</th>\n",
       "      <td>1</td>\n",
       "    </tr>\n",
       "    <tr>\n",
       "      <th>4</th>\n",
       "      <td>1</td>\n",
       "    </tr>\n",
       "  </tbody>\n",
       "</table>\n",
       "</div>"
      ],
      "text/plain": [
       "   bedrooms_per_household_na\n",
       "0                          1\n",
       "1                          1\n",
       "2                          1\n",
       "3                          1\n",
       "4                          1"
      ]
     },
     "execution_count": 14,
     "metadata": {},
     "output_type": "execute_result"
    }
   ],
   "source": [
    "data[['bedrooms_per_household_na']].head()"
   ]
  },
  {
   "cell_type": "markdown",
   "id": "6034aa7e-b57d-44da-9b7d-c4cf377a6663",
   "metadata": {},
   "source": [
    "## Numerical variable transformation\n",
    "\n",
    "#### Yeo-Johnson Transformation\n",
    "\n",
    "We will apply the Yeo-Johnson Transformation to the continous variables, except `housing_median_age`"
   ]
  },
  {
   "cell_type": "code",
   "execution_count": 15,
   "id": "f18e8143-3e61-4104-acff-ffcbf0562d91",
   "metadata": {},
   "outputs": [
    {
     "data": {
      "text/plain": [
       "['total_rooms', 'population', 'median_income', 'rooms_per_household']"
      ]
     },
     "execution_count": 15,
     "metadata": {},
     "output_type": "execute_result"
    }
   ],
   "source": [
    "# Capture Discrete and Continous features\n",
    "discrete_vars = [var for var in num_vars if len(data[var].unique()) < 20]\n",
    "\n",
    "cont_vars = [var for var in num_vars if var not in discrete_vars+[\"longitude\", \"latitude\"]]\n",
    "\n",
    "# Capture the Skewed variables from the continous variables for later\n",
    "\n",
    "skewed = [\"population_per_household\", \"median_income_per_household\"]\n",
    "\n",
    "# Capture the remaining continuous features\n",
    "# remove the housing_median_age which already has good spread\n",
    "cont_vars = [item for item in cont_vars if item not in skewed and item != 'housing_median_age']\n",
    "cont_vars"
   ]
  },
  {
   "cell_type": "code",
   "execution_count": 16,
   "id": "0b1ddea5-00cf-4ae7-ad6e-961d495cc391",
   "metadata": {},
   "outputs": [
    {
     "data": {
      "text/html": [
       "<div>\n",
       "<style scoped>\n",
       "    .dataframe tbody tr th:only-of-type {\n",
       "        vertical-align: middle;\n",
       "    }\n",
       "\n",
       "    .dataframe tbody tr th {\n",
       "        vertical-align: top;\n",
       "    }\n",
       "\n",
       "    .dataframe thead th {\n",
       "        text-align: right;\n",
       "    }\n",
       "</style>\n",
       "<table border=\"1\" class=\"dataframe\">\n",
       "  <thead>\n",
       "    <tr style=\"text-align: right;\">\n",
       "      <th></th>\n",
       "      <th>longitude</th>\n",
       "      <th>latitude</th>\n",
       "      <th>housing_median_age</th>\n",
       "      <th>total_rooms</th>\n",
       "      <th>population</th>\n",
       "      <th>median_income</th>\n",
       "      <th>ocean_proximity</th>\n",
       "      <th>income_bracket</th>\n",
       "      <th>rooms_per_household</th>\n",
       "      <th>bedrooms_per_household</th>\n",
       "      <th>population_per_household</th>\n",
       "      <th>median_income_per_household</th>\n",
       "      <th>bedrooms_per_household_na</th>\n",
       "    </tr>\n",
       "  </thead>\n",
       "  <tbody>\n",
       "    <tr>\n",
       "      <th>0</th>\n",
       "      <td>-119.01</td>\n",
       "      <td>36.06</td>\n",
       "      <td>25.0</td>\n",
       "      <td>1505.0</td>\n",
       "      <td>1392.0</td>\n",
       "      <td>1.6812</td>\n",
       "      <td>INLAND</td>\n",
       "      <td>low-income</td>\n",
       "      <td>4.0</td>\n",
       "      <td>1.042725</td>\n",
       "      <td>4.0</td>\n",
       "      <td>0.004683</td>\n",
       "      <td>1</td>\n",
       "    </tr>\n",
       "    <tr>\n",
       "      <th>1</th>\n",
       "      <td>-119.46</td>\n",
       "      <td>35.14</td>\n",
       "      <td>30.0</td>\n",
       "      <td>2943.0</td>\n",
       "      <td>1565.0</td>\n",
       "      <td>2.5313</td>\n",
       "      <td>INLAND</td>\n",
       "      <td>low-income</td>\n",
       "      <td>5.0</td>\n",
       "      <td>1.042725</td>\n",
       "      <td>3.0</td>\n",
       "      <td>0.004334</td>\n",
       "      <td>1</td>\n",
       "    </tr>\n",
       "    <tr>\n",
       "      <th>2</th>\n",
       "      <td>-118.72</td>\n",
       "      <td>34.28</td>\n",
       "      <td>17.0</td>\n",
       "      <td>3051.0</td>\n",
       "      <td>1705.0</td>\n",
       "      <td>5.7376</td>\n",
       "      <td>&lt;1H OCEAN</td>\n",
       "      <td>middle-income</td>\n",
       "      <td>6.0</td>\n",
       "      <td>1.042725</td>\n",
       "      <td>3.0</td>\n",
       "      <td>0.011591</td>\n",
       "      <td>1</td>\n",
       "    </tr>\n",
       "    <tr>\n",
       "      <th>3</th>\n",
       "      <td>-121.93</td>\n",
       "      <td>36.62</td>\n",
       "      <td>34.0</td>\n",
       "      <td>2351.0</td>\n",
       "      <td>1063.0</td>\n",
       "      <td>3.7250</td>\n",
       "      <td>NEAR OCEAN</td>\n",
       "      <td>low-income</td>\n",
       "      <td>5.0</td>\n",
       "      <td>1.042725</td>\n",
       "      <td>2.0</td>\n",
       "      <td>0.008703</td>\n",
       "      <td>1</td>\n",
       "    </tr>\n",
       "    <tr>\n",
       "      <th>4</th>\n",
       "      <td>-117.61</td>\n",
       "      <td>34.08</td>\n",
       "      <td>12.0</td>\n",
       "      <td>4427.0</td>\n",
       "      <td>2400.0</td>\n",
       "      <td>4.7147</td>\n",
       "      <td>INLAND</td>\n",
       "      <td>low-income</td>\n",
       "      <td>5.0</td>\n",
       "      <td>1.042725</td>\n",
       "      <td>3.0</td>\n",
       "      <td>0.005593</td>\n",
       "      <td>1</td>\n",
       "    </tr>\n",
       "    <tr>\n",
       "      <th>5</th>\n",
       "      <td>-118.02</td>\n",
       "      <td>33.89</td>\n",
       "      <td>36.0</td>\n",
       "      <td>1375.0</td>\n",
       "      <td>670.0</td>\n",
       "      <td>5.0839</td>\n",
       "      <td>&lt;1H OCEAN</td>\n",
       "      <td>middle-income</td>\n",
       "      <td>6.0</td>\n",
       "      <td>1.042725</td>\n",
       "      <td>3.0</td>\n",
       "      <td>0.023004</td>\n",
       "      <td>1</td>\n",
       "    </tr>\n",
       "    <tr>\n",
       "      <th>6</th>\n",
       "      <td>-118.08</td>\n",
       "      <td>33.92</td>\n",
       "      <td>38.0</td>\n",
       "      <td>1335.0</td>\n",
       "      <td>1011.0</td>\n",
       "      <td>3.6908</td>\n",
       "      <td>&lt;1H OCEAN</td>\n",
       "      <td>low-income</td>\n",
       "      <td>5.0</td>\n",
       "      <td>1.042725</td>\n",
       "      <td>4.0</td>\n",
       "      <td>0.013720</td>\n",
       "      <td>1</td>\n",
       "    </tr>\n",
       "    <tr>\n",
       "      <th>7</th>\n",
       "      <td>-122.08</td>\n",
       "      <td>37.39</td>\n",
       "      <td>4.0</td>\n",
       "      <td>2292.0</td>\n",
       "      <td>1050.0</td>\n",
       "      <td>4.8036</td>\n",
       "      <td>NEAR BAY</td>\n",
       "      <td>low-income</td>\n",
       "      <td>4.0</td>\n",
       "      <td>1.042725</td>\n",
       "      <td>2.0</td>\n",
       "      <td>0.008225</td>\n",
       "      <td>1</td>\n",
       "    </tr>\n",
       "    <tr>\n",
       "      <th>8</th>\n",
       "      <td>-118.23</td>\n",
       "      <td>34.18</td>\n",
       "      <td>45.0</td>\n",
       "      <td>2332.0</td>\n",
       "      <td>943.0</td>\n",
       "      <td>8.1132</td>\n",
       "      <td>&lt;1H OCEAN</td>\n",
       "      <td>middle-income</td>\n",
       "      <td>7.0</td>\n",
       "      <td>1.042725</td>\n",
       "      <td>3.0</td>\n",
       "      <td>0.023933</td>\n",
       "      <td>1</td>\n",
       "    </tr>\n",
       "    <tr>\n",
       "      <th>9</th>\n",
       "      <td>-120.37</td>\n",
       "      <td>38.01</td>\n",
       "      <td>30.0</td>\n",
       "      <td>473.0</td>\n",
       "      <td>242.0</td>\n",
       "      <td>2.5417</td>\n",
       "      <td>INLAND</td>\n",
       "      <td>low-income</td>\n",
       "      <td>5.0</td>\n",
       "      <td>1.042725</td>\n",
       "      <td>3.0</td>\n",
       "      <td>0.027330</td>\n",
       "      <td>1</td>\n",
       "    </tr>\n",
       "  </tbody>\n",
       "</table>\n",
       "</div>"
      ],
      "text/plain": [
       "   longitude  latitude  housing_median_age  total_rooms  population  \\\n",
       "0    -119.01     36.06                25.0       1505.0      1392.0   \n",
       "1    -119.46     35.14                30.0       2943.0      1565.0   \n",
       "2    -118.72     34.28                17.0       3051.0      1705.0   \n",
       "3    -121.93     36.62                34.0       2351.0      1063.0   \n",
       "4    -117.61     34.08                12.0       4427.0      2400.0   \n",
       "5    -118.02     33.89                36.0       1375.0       670.0   \n",
       "6    -118.08     33.92                38.0       1335.0      1011.0   \n",
       "7    -122.08     37.39                 4.0       2292.0      1050.0   \n",
       "8    -118.23     34.18                45.0       2332.0       943.0   \n",
       "9    -120.37     38.01                30.0        473.0       242.0   \n",
       "\n",
       "   median_income ocean_proximity income_bracket  rooms_per_household  \\\n",
       "0         1.6812          INLAND     low-income                  4.0   \n",
       "1         2.5313          INLAND     low-income                  5.0   \n",
       "2         5.7376       <1H OCEAN  middle-income                  6.0   \n",
       "3         3.7250      NEAR OCEAN     low-income                  5.0   \n",
       "4         4.7147          INLAND     low-income                  5.0   \n",
       "5         5.0839       <1H OCEAN  middle-income                  6.0   \n",
       "6         3.6908       <1H OCEAN     low-income                  5.0   \n",
       "7         4.8036        NEAR BAY     low-income                  4.0   \n",
       "8         8.1132       <1H OCEAN  middle-income                  7.0   \n",
       "9         2.5417          INLAND     low-income                  5.0   \n",
       "\n",
       "   bedrooms_per_household  population_per_household  \\\n",
       "0                1.042725                       4.0   \n",
       "1                1.042725                       3.0   \n",
       "2                1.042725                       3.0   \n",
       "3                1.042725                       2.0   \n",
       "4                1.042725                       3.0   \n",
       "5                1.042725                       3.0   \n",
       "6                1.042725                       4.0   \n",
       "7                1.042725                       2.0   \n",
       "8                1.042725                       3.0   \n",
       "9                1.042725                       3.0   \n",
       "\n",
       "   median_income_per_household  bedrooms_per_household_na  \n",
       "0                     0.004683                          1  \n",
       "1                     0.004334                          1  \n",
       "2                     0.011591                          1  \n",
       "3                     0.008703                          1  \n",
       "4                     0.005593                          1  \n",
       "5                     0.023004                          1  \n",
       "6                     0.013720                          1  \n",
       "7                     0.008225                          1  \n",
       "8                     0.023933                          1  \n",
       "9                     0.027330                          1  "
      ]
     },
     "execution_count": 16,
     "metadata": {},
     "output_type": "execute_result"
    }
   ],
   "source": [
    "data.head()"
   ]
  },
  {
   "cell_type": "code",
   "execution_count": 17,
   "id": "ab3691c1-fa34-4588-88c4-bcb97346f0a7",
   "metadata": {},
   "outputs": [],
   "source": [
    "# note how we use the lambda that we learned from the train set\n",
    "# in the notebook on Feature Engineering.\n",
    "\n",
    "cont_var_map = {\n",
    "    'total_rooms': 0.21950357587206626,\n",
    "    'population': 0.2320775156661516,\n",
    "    'median_income': 0.03910515153028596,\n",
    "    'rooms_per_household': -0.48608895100991023,\n",
    "}\n",
    "\n",
    "# Note that we need to hard code this value\n",
    "\n",
    "# data['total_rooms'] = stats.yeojohnson(data['total_rooms'], lmbda=-12.55283001172003)\n",
    "\n",
    "for var, lmbda in cont_var_map.items():\n",
    "    data[var] = stats.yeojohnson(data[var], lmbda=lmbda)"
   ]
  },
  {
   "cell_type": "code",
   "execution_count": 18,
   "id": "6178b4fe-0da3-49f3-9ffb-4a2936d48fc0",
   "metadata": {},
   "outputs": [
    {
     "data": {
      "text/html": [
       "<div>\n",
       "<style scoped>\n",
       "    .dataframe tbody tr th:only-of-type {\n",
       "        vertical-align: middle;\n",
       "    }\n",
       "\n",
       "    .dataframe tbody tr th {\n",
       "        vertical-align: top;\n",
       "    }\n",
       "\n",
       "    .dataframe thead th {\n",
       "        text-align: right;\n",
       "    }\n",
       "</style>\n",
       "<table border=\"1\" class=\"dataframe\">\n",
       "  <thead>\n",
       "    <tr style=\"text-align: right;\">\n",
       "      <th></th>\n",
       "      <th>longitude</th>\n",
       "      <th>latitude</th>\n",
       "      <th>housing_median_age</th>\n",
       "      <th>total_rooms</th>\n",
       "      <th>population</th>\n",
       "      <th>median_income</th>\n",
       "      <th>ocean_proximity</th>\n",
       "      <th>income_bracket</th>\n",
       "      <th>rooms_per_household</th>\n",
       "      <th>bedrooms_per_household</th>\n",
       "      <th>population_per_household</th>\n",
       "      <th>median_income_per_household</th>\n",
       "      <th>bedrooms_per_household_na</th>\n",
       "    </tr>\n",
       "  </thead>\n",
       "  <tbody>\n",
       "    <tr>\n",
       "      <th>0</th>\n",
       "      <td>-119.01</td>\n",
       "      <td>36.06</td>\n",
       "      <td>25.0</td>\n",
       "      <td>18.148264</td>\n",
       "      <td>18.812131</td>\n",
       "      <td>1.005530</td>\n",
       "      <td>INLAND</td>\n",
       "      <td>low-income</td>\n",
       "      <td>1.116382</td>\n",
       "      <td>1.042725</td>\n",
       "      <td>4.0</td>\n",
       "      <td>0.004683</td>\n",
       "      <td>1</td>\n",
       "    </tr>\n",
       "    <tr>\n",
       "      <th>1</th>\n",
       "      <td>-119.46</td>\n",
       "      <td>35.14</td>\n",
       "      <td>30.0</td>\n",
       "      <td>21.747106</td>\n",
       "      <td>19.448897</td>\n",
       "      <td>1.293308</td>\n",
       "      <td>INLAND</td>\n",
       "      <td>low-income</td>\n",
       "      <td>1.196176</td>\n",
       "      <td>1.042725</td>\n",
       "      <td>3.0</td>\n",
       "      <td>0.004334</td>\n",
       "      <td>1</td>\n",
       "    </tr>\n",
       "    <tr>\n",
       "      <th>2</th>\n",
       "      <td>-118.72</td>\n",
       "      <td>34.28</td>\n",
       "      <td>17.0</td>\n",
       "      <td>21.955940</td>\n",
       "      <td>19.925736</td>\n",
       "      <td>1.980665</td>\n",
       "      <td>&lt;1H OCEAN</td>\n",
       "      <td>middle-income</td>\n",
       "      <td>1.258338</td>\n",
       "      <td>1.042725</td>\n",
       "      <td>3.0</td>\n",
       "      <td>0.011591</td>\n",
       "      <td>1</td>\n",
       "    </tr>\n",
       "    <tr>\n",
       "      <th>3</th>\n",
       "      <td>-121.93</td>\n",
       "      <td>36.62</td>\n",
       "      <td>34.0</td>\n",
       "      <td>20.482341</td>\n",
       "      <td>17.410705</td>\n",
       "      <td>1.600986</td>\n",
       "      <td>NEAR OCEAN</td>\n",
       "      <td>low-income</td>\n",
       "      <td>1.196176</td>\n",
       "      <td>1.042725</td>\n",
       "      <td>2.0</td>\n",
       "      <td>0.008703</td>\n",
       "      <td>1</td>\n",
       "    </tr>\n",
       "    <tr>\n",
       "      <th>4</th>\n",
       "      <td>-117.61</td>\n",
       "      <td>34.08</td>\n",
       "      <td>12.0</td>\n",
       "      <td>24.212553</td>\n",
       "      <td>21.926027</td>\n",
       "      <td>1.803819</td>\n",
       "      <td>INLAND</td>\n",
       "      <td>low-income</td>\n",
       "      <td>1.196176</td>\n",
       "      <td>1.042725</td>\n",
       "      <td>3.0</td>\n",
       "      <td>0.005593</td>\n",
       "      <td>1</td>\n",
       "    </tr>\n",
       "    <tr>\n",
       "      <th>5</th>\n",
       "      <td>-118.02</td>\n",
       "      <td>33.89</td>\n",
       "      <td>36.0</td>\n",
       "      <td>17.702790</td>\n",
       "      <td>15.206864</td>\n",
       "      <td>1.870922</td>\n",
       "      <td>&lt;1H OCEAN</td>\n",
       "      <td>middle-income</td>\n",
       "      <td>1.258338</td>\n",
       "      <td>1.042725</td>\n",
       "      <td>3.0</td>\n",
       "      <td>0.023004</td>\n",
       "      <td>1</td>\n",
       "    </tr>\n",
       "    <tr>\n",
       "      <th>6</th>\n",
       "      <td>-118.08</td>\n",
       "      <td>33.92</td>\n",
       "      <td>38.0</td>\n",
       "      <td>17.559121</td>\n",
       "      <td>17.159598</td>\n",
       "      <td>1.593268</td>\n",
       "      <td>&lt;1H OCEAN</td>\n",
       "      <td>low-income</td>\n",
       "      <td>1.196176</td>\n",
       "      <td>1.042725</td>\n",
       "      <td>4.0</td>\n",
       "      <td>0.013720</td>\n",
       "      <td>1</td>\n",
       "    </tr>\n",
       "    <tr>\n",
       "      <th>7</th>\n",
       "      <td>-122.08</td>\n",
       "      <td>37.39</td>\n",
       "      <td>4.0</td>\n",
       "      <td>20.343105</td>\n",
       "      <td>17.348827</td>\n",
       "      <td>1.820350</td>\n",
       "      <td>NEAR BAY</td>\n",
       "      <td>low-income</td>\n",
       "      <td>1.116382</td>\n",
       "      <td>1.042725</td>\n",
       "      <td>2.0</td>\n",
       "      <td>0.008225</td>\n",
       "      <td>1</td>\n",
       "    </tr>\n",
       "    <tr>\n",
       "      <th>8</th>\n",
       "      <td>-118.23</td>\n",
       "      <td>34.18</td>\n",
       "      <td>45.0</td>\n",
       "      <td>20.437803</td>\n",
       "      <td>16.815819</td>\n",
       "      <td>2.308007</td>\n",
       "      <td>&lt;1H OCEAN</td>\n",
       "      <td>middle-income</td>\n",
       "      <td>1.308546</td>\n",
       "      <td>1.042725</td>\n",
       "      <td>3.0</td>\n",
       "      <td>0.023933</td>\n",
       "      <td>1</td>\n",
       "    </tr>\n",
       "    <tr>\n",
       "      <th>9</th>\n",
       "      <td>-120.37</td>\n",
       "      <td>38.01</td>\n",
       "      <td>30.0</td>\n",
       "      <td>13.060023</td>\n",
       "      <td>11.108544</td>\n",
       "      <td>1.296398</td>\n",
       "      <td>INLAND</td>\n",
       "      <td>low-income</td>\n",
       "      <td>1.196176</td>\n",
       "      <td>1.042725</td>\n",
       "      <td>3.0</td>\n",
       "      <td>0.027330</td>\n",
       "      <td>1</td>\n",
       "    </tr>\n",
       "  </tbody>\n",
       "</table>\n",
       "</div>"
      ],
      "text/plain": [
       "   longitude  latitude  housing_median_age  total_rooms  population  \\\n",
       "0    -119.01     36.06                25.0    18.148264   18.812131   \n",
       "1    -119.46     35.14                30.0    21.747106   19.448897   \n",
       "2    -118.72     34.28                17.0    21.955940   19.925736   \n",
       "3    -121.93     36.62                34.0    20.482341   17.410705   \n",
       "4    -117.61     34.08                12.0    24.212553   21.926027   \n",
       "5    -118.02     33.89                36.0    17.702790   15.206864   \n",
       "6    -118.08     33.92                38.0    17.559121   17.159598   \n",
       "7    -122.08     37.39                 4.0    20.343105   17.348827   \n",
       "8    -118.23     34.18                45.0    20.437803   16.815819   \n",
       "9    -120.37     38.01                30.0    13.060023   11.108544   \n",
       "\n",
       "   median_income ocean_proximity income_bracket  rooms_per_household  \\\n",
       "0       1.005530          INLAND     low-income             1.116382   \n",
       "1       1.293308          INLAND     low-income             1.196176   \n",
       "2       1.980665       <1H OCEAN  middle-income             1.258338   \n",
       "3       1.600986      NEAR OCEAN     low-income             1.196176   \n",
       "4       1.803819          INLAND     low-income             1.196176   \n",
       "5       1.870922       <1H OCEAN  middle-income             1.258338   \n",
       "6       1.593268       <1H OCEAN     low-income             1.196176   \n",
       "7       1.820350        NEAR BAY     low-income             1.116382   \n",
       "8       2.308007       <1H OCEAN  middle-income             1.308546   \n",
       "9       1.296398          INLAND     low-income             1.196176   \n",
       "\n",
       "   bedrooms_per_household  population_per_household  \\\n",
       "0                1.042725                       4.0   \n",
       "1                1.042725                       3.0   \n",
       "2                1.042725                       3.0   \n",
       "3                1.042725                       2.0   \n",
       "4                1.042725                       3.0   \n",
       "5                1.042725                       3.0   \n",
       "6                1.042725                       4.0   \n",
       "7                1.042725                       2.0   \n",
       "8                1.042725                       3.0   \n",
       "9                1.042725                       3.0   \n",
       "\n",
       "   median_income_per_household  bedrooms_per_household_na  \n",
       "0                     0.004683                          1  \n",
       "1                     0.004334                          1  \n",
       "2                     0.011591                          1  \n",
       "3                     0.008703                          1  \n",
       "4                     0.005593                          1  \n",
       "5                     0.023004                          1  \n",
       "6                     0.013720                          1  \n",
       "7                     0.008225                          1  \n",
       "8                     0.023933                          1  \n",
       "9                     0.027330                          1  "
      ]
     },
     "execution_count": 18,
     "metadata": {},
     "output_type": "execute_result"
    }
   ],
   "source": [
    "data.head()"
   ]
  },
  {
   "cell_type": "markdown",
   "id": "1f85c562-5136-45f3-b02d-6db6a23d0971",
   "metadata": {},
   "source": [
    "### Binarize Skewed Variables"
   ]
  },
  {
   "cell_type": "code",
   "execution_count": 19,
   "id": "85572f43-26f0-482d-a1e8-bb8d545f032f",
   "metadata": {},
   "outputs": [
    {
     "data": {
      "text/plain": [
       "['population_per_household', 'median_income_per_household']"
      ]
     },
     "execution_count": 19,
     "metadata": {},
     "output_type": "execute_result"
    }
   ],
   "source": [
    "skewed"
   ]
  },
  {
   "cell_type": "code",
   "execution_count": 20,
   "id": "b848ae33-fd7b-4979-8fb7-810454e6c037",
   "metadata": {},
   "outputs": [],
   "source": [
    "for var in skewed:\n",
    "    data[var] = np.where(data[var]<=1, 0, 1)"
   ]
  },
  {
   "cell_type": "markdown",
   "id": "0fbb9c14-0183-4967-b1ed-4e64bcc57afc",
   "metadata": {},
   "source": [
    "### Categorical Features: Apply Mappings\n",
    "\n",
    "This is applied on the `income_bracket` feature"
   ]
  },
  {
   "cell_type": "code",
   "execution_count": 21,
   "id": "a4d3a43b-a1e6-48bc-a0dd-91d3b94bd3e1",
   "metadata": {},
   "outputs": [],
   "source": [
    "# re-map strings to numbers, which determine quality\n",
    "\n",
    "income_mappings = {'low-income': 1, 'middle-income': 2, 'high-income': 3}\n",
    "\n",
    "data['income_bracket'] = data['income_bracket'].map(income_mappings)"
   ]
  },
  {
   "cell_type": "code",
   "execution_count": 22,
   "id": "20849028-c385-439d-9cd4-d6c3482e08ed",
   "metadata": {},
   "outputs": [
    {
     "data": {
      "text/plain": [
       "[]"
      ]
     },
     "execution_count": 22,
     "metadata": {},
     "output_type": "execute_result"
    }
   ],
   "source": [
    "# check absence of na in the data set\n",
    "\n",
    "with_null = [var for var in data.columns if data[var].isnull().sum() > 0]\n",
    "\n",
    "with_null"
   ]
  },
  {
   "cell_type": "markdown",
   "id": "5b85ec22-c365-4a90-83f1-d3c4c067f6ba",
   "metadata": {},
   "source": [
    "Great! No more missing values!!\n",
    "\n",
    "## Removing Rare Labels\n",
    "\n",
    "We will group these categories that are present in less than 1% of the observations, and present them in the category called `Rare`"
   ]
  },
  {
   "cell_type": "code",
   "execution_count": 23,
   "id": "c45a843c-5c2e-4031-90d6-3221dff759b6",
   "metadata": {},
   "outputs": [
    {
     "data": {
      "text/plain": [
       "['ocean_proximity']"
      ]
     },
     "execution_count": 23,
     "metadata": {},
     "output_type": "execute_result"
    }
   ],
   "source": [
    "# Capturing the remaining Categorical Features\n",
    "\n",
    "cat_others = [var for var in cat_vars if var != 'income_bracket']\n",
    "\n",
    "cat_others"
   ]
  },
  {
   "cell_type": "code",
   "execution_count": 24,
   "id": "15ec1de0-204c-4274-8f02-ce421222c207",
   "metadata": {},
   "outputs": [
    {
     "name": "stdout",
     "output_type": "stream",
     "text": [
      "ocean_proximity Index(['<1H OCEAN', 'INLAND', 'NEAR BAY', 'NEAR OCEAN'], dtype='object', name='ocean_proximity')\n",
      "\n"
     ]
    }
   ],
   "source": [
    "def find_frequent_labels(df, var, rare_perc):\n",
    "    # function finds the labels that are shared by more than\n",
    "    # a certain % of the houses in the dataset\n",
    "    df = df.copy()\n",
    "    tmp = df.groupby(var)[var].count() / len(df)\n",
    "    return tmp[tmp > rare_perc].index\n",
    "\n",
    "\n",
    "for var in cat_others:\n",
    "    # find the frequent categories\n",
    "    frequent_ls = find_frequent_labels(data, var, 0.01)\n",
    "    print(var, frequent_ls)\n",
    "    print()\n",
    "    # replace rare categories by the string \"Rare\"\n",
    "    data[var] = np.where(data[var].isin(\n",
    "        frequent_ls), data[var], 'Rare')"
   ]
  },
  {
   "cell_type": "code",
   "execution_count": 26,
   "id": "e8877d7f-14cf-41cb-8980-8453094b0e32",
   "metadata": {},
   "outputs": [
    {
     "data": {
      "text/plain": [
       "array(['INLAND', '<1H OCEAN', 'NEAR OCEAN', 'NEAR BAY', 'Rare'],\n",
       "      dtype=object)"
      ]
     },
     "execution_count": 26,
     "metadata": {},
     "output_type": "execute_result"
    }
   ],
   "source": [
    "data['ocean_proximity'].unique()"
   ]
  },
  {
   "cell_type": "code",
   "execution_count": 27,
   "id": "e2348443-d513-4bc0-8903-5da4ff6f97f9",
   "metadata": {},
   "outputs": [
    {
     "data": {
      "text/plain": [
       "Index(['<1H OCEAN', 'INLAND', 'NEAR BAY', 'NEAR OCEAN'], dtype='object', name='ocean_proximity')"
      ]
     },
     "execution_count": 27,
     "metadata": {},
     "output_type": "execute_result"
    }
   ],
   "source": [
    "frequent_ls"
   ]
  },
  {
   "cell_type": "code",
   "execution_count": null,
   "id": "287ca1d8-1aa7-49cf-be87-a227e1c28500",
   "metadata": {},
   "outputs": [],
   "source": []
  }
 ],
 "metadata": {
  "kernelspec": {
   "display_name": "Python 3 (ipykernel)",
   "language": "python",
   "name": "python3"
  },
  "language_info": {
   "codemirror_mode": {
    "name": "ipython",
    "version": 3
   },
   "file_extension": ".py",
   "mimetype": "text/x-python",
   "name": "python",
   "nbconvert_exporter": "python",
   "pygments_lexer": "ipython3",
   "version": "3.9.7"
  }
 },
 "nbformat": 4,
 "nbformat_minor": 5
}

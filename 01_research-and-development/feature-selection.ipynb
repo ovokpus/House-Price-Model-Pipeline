{
 "cells": [
  {
   "cell_type": "markdown",
   "id": "eaff3904-4010-44af-bada-90bff1f3f178",
   "metadata": {},
   "source": [
    "# Machine Learning Pipeline - Feature Selection\n",
    "\n",
    "In this notebook, we pick up the transformed datasets that we saved in the previous notebook.\n",
    "\n",
    "## Reproducibility: Setting the seed\n",
    "\n",
    "With the aim to ensure reproducibility between runs of the same notebook, but also between the research and production environment, for each step that includes some element of randomness, it is extremely important that we **set the seed**."
   ]
  },
  {
   "cell_type": "code",
   "execution_count": 1,
   "id": "bf9134ae-46f9-449b-a0b2-a53cf627951b",
   "metadata": {},
   "outputs": [],
   "source": [
    "# to handle datasets\n",
    "import pandas as pd\n",
    "import numpy as np\n",
    "\n",
    "# for plotting\n",
    "import matplotlib.pyplot as plt\n",
    "\n",
    "# to build the models\n",
    "from sklearn.linear_model import Lasso\n",
    "from sklearn.feature_selection import SelectFromModel\n",
    "\n",
    "# to visualise al the columns in the dataframe\n",
    "pd.pandas.set_option('display.max_columns', None)"
   ]
  },
  {
   "cell_type": "code",
   "execution_count": 2,
   "id": "7e658901-88d6-494c-b71d-fab7a16feaa5",
   "metadata": {},
   "outputs": [
    {
     "data": {
      "text/html": [
       "<div>\n",
       "<style scoped>\n",
       "    .dataframe tbody tr th:only-of-type {\n",
       "        vertical-align: middle;\n",
       "    }\n",
       "\n",
       "    .dataframe tbody tr th {\n",
       "        vertical-align: top;\n",
       "    }\n",
       "\n",
       "    .dataframe thead th {\n",
       "        text-align: right;\n",
       "    }\n",
       "</style>\n",
       "<table border=\"1\" class=\"dataframe\">\n",
       "  <thead>\n",
       "    <tr style=\"text-align: right;\">\n",
       "      <th></th>\n",
       "      <th>longitude</th>\n",
       "      <th>latitude</th>\n",
       "      <th>housing_median_age</th>\n",
       "      <th>total_rooms</th>\n",
       "      <th>population</th>\n",
       "      <th>median_income</th>\n",
       "      <th>ocean_proximity</th>\n",
       "      <th>income_bracket</th>\n",
       "      <th>rooms_per_household</th>\n",
       "      <th>bedrooms_per_household</th>\n",
       "      <th>population_per_household</th>\n",
       "      <th>median_income_per_household</th>\n",
       "    </tr>\n",
       "  </thead>\n",
       "  <tbody>\n",
       "    <tr>\n",
       "      <th>0</th>\n",
       "      <td>1.990148</td>\n",
       "      <td>-0.831603</td>\n",
       "      <td>-0.584061</td>\n",
       "      <td>-0.822229</td>\n",
       "      <td>-0.693618</td>\n",
       "      <td>-0.181254</td>\n",
       "      <td>-1.253415</td>\n",
       "      <td>-0.481839</td>\n",
       "      <td>0.604762</td>\n",
       "      <td>2.352336</td>\n",
       "      <td>0.083696</td>\n",
       "      <td>-0.022035</td>\n",
       "    </tr>\n",
       "    <tr>\n",
       "      <th>1</th>\n",
       "      <td>0.958314</td>\n",
       "      <td>-1.031433</td>\n",
       "      <td>-1.063452</td>\n",
       "      <td>1.993611</td>\n",
       "      <td>1.469553</td>\n",
       "      <td>1.157683</td>\n",
       "      <td>-0.300872</td>\n",
       "      <td>2.012706</td>\n",
       "      <td>0.604762</td>\n",
       "      <td>-0.112234</td>\n",
       "      <td>0.083696</td>\n",
       "      <td>-0.022035</td>\n",
       "    </tr>\n",
       "    <tr>\n",
       "      <th>2</th>\n",
       "      <td>0.928406</td>\n",
       "      <td>-0.729364</td>\n",
       "      <td>1.892792</td>\n",
       "      <td>-1.633859</td>\n",
       "      <td>1.258138</td>\n",
       "      <td>-1.305856</td>\n",
       "      <td>-1.253415</td>\n",
       "      <td>-0.481839</td>\n",
       "      <td>-0.925870</td>\n",
       "      <td>-0.112234</td>\n",
       "      <td>0.083696</td>\n",
       "      <td>-0.022035</td>\n",
       "    </tr>\n",
       "    <tr>\n",
       "      <th>3</th>\n",
       "      <td>-0.796302</td>\n",
       "      <td>1.403711</td>\n",
       "      <td>-1.862437</td>\n",
       "      <td>1.910722</td>\n",
       "      <td>1.215999</td>\n",
       "      <td>1.251134</td>\n",
       "      <td>-1.253415</td>\n",
       "      <td>2.012706</td>\n",
       "      <td>0.604762</td>\n",
       "      <td>-0.112234</td>\n",
       "      <td>0.083696</td>\n",
       "      <td>-0.022035</td>\n",
       "    </tr>\n",
       "    <tr>\n",
       "      <th>4</th>\n",
       "      <td>-1.284803</td>\n",
       "      <td>0.962225</td>\n",
       "      <td>1.892792</td>\n",
       "      <td>0.418302</td>\n",
       "      <td>0.146383</td>\n",
       "      <td>0.267953</td>\n",
       "      <td>1.604215</td>\n",
       "      <td>-0.481839</td>\n",
       "      <td>-0.065493</td>\n",
       "      <td>-0.112234</td>\n",
       "      <td>0.083696</td>\n",
       "      <td>-0.022035</td>\n",
       "    </tr>\n",
       "  </tbody>\n",
       "</table>\n",
       "</div>"
      ],
      "text/plain": [
       "   longitude  latitude  housing_median_age  total_rooms  population  \\\n",
       "0   1.990148 -0.831603           -0.584061    -0.822229   -0.693618   \n",
       "1   0.958314 -1.031433           -1.063452     1.993611    1.469553   \n",
       "2   0.928406 -0.729364            1.892792    -1.633859    1.258138   \n",
       "3  -0.796302  1.403711           -1.862437     1.910722    1.215999   \n",
       "4  -1.284803  0.962225            1.892792     0.418302    0.146383   \n",
       "\n",
       "   median_income  ocean_proximity  income_bracket  rooms_per_household  \\\n",
       "0      -0.181254        -1.253415       -0.481839             0.604762   \n",
       "1       1.157683        -0.300872        2.012706             0.604762   \n",
       "2      -1.305856        -1.253415       -0.481839            -0.925870   \n",
       "3       1.251134        -1.253415        2.012706             0.604762   \n",
       "4       0.267953         1.604215       -0.481839            -0.065493   \n",
       "\n",
       "   bedrooms_per_household  population_per_household  \\\n",
       "0                2.352336                  0.083696   \n",
       "1               -0.112234                  0.083696   \n",
       "2               -0.112234                  0.083696   \n",
       "3               -0.112234                  0.083696   \n",
       "4               -0.112234                  0.083696   \n",
       "\n",
       "   median_income_per_household  \n",
       "0                    -0.022035  \n",
       "1                    -0.022035  \n",
       "2                    -0.022035  \n",
       "3                    -0.022035  \n",
       "4                    -0.022035  "
      ]
     },
     "execution_count": 2,
     "metadata": {},
     "output_type": "execute_result"
    }
   ],
   "source": [
    "# load the train and test set with the engineered variables\n",
    "\n",
    "# we built and saved these datasets in the previous notebook.\n",
    "# If you haven't done so, go ahead and check the previous notebook\n",
    "# to find out how to create these datasets\n",
    "\n",
    "X_train = pd.read_csv('xtrain.csv')\n",
    "X_test = pd.read_csv('xtest.csv')\n",
    "\n",
    "X_train.head()"
   ]
  },
  {
   "cell_type": "code",
   "execution_count": 3,
   "id": "c1810142-212c-4d2b-a38d-aa223ce6a29b",
   "metadata": {},
   "outputs": [
    {
     "data": {
      "text/html": [
       "<div>\n",
       "<style scoped>\n",
       "    .dataframe tbody tr th:only-of-type {\n",
       "        vertical-align: middle;\n",
       "    }\n",
       "\n",
       "    .dataframe tbody tr th {\n",
       "        vertical-align: top;\n",
       "    }\n",
       "\n",
       "    .dataframe thead th {\n",
       "        text-align: right;\n",
       "    }\n",
       "</style>\n",
       "<table border=\"1\" class=\"dataframe\">\n",
       "  <thead>\n",
       "    <tr style=\"text-align: right;\">\n",
       "      <th></th>\n",
       "      <th>median_house_value</th>\n",
       "    </tr>\n",
       "  </thead>\n",
       "  <tbody>\n",
       "    <tr>\n",
       "      <th>0</th>\n",
       "      <td>11.180246</td>\n",
       "    </tr>\n",
       "    <tr>\n",
       "      <th>1</th>\n",
       "      <td>12.385473</td>\n",
       "    </tr>\n",
       "    <tr>\n",
       "      <th>2</th>\n",
       "      <td>12.266697</td>\n",
       "    </tr>\n",
       "    <tr>\n",
       "      <th>3</th>\n",
       "      <td>12.401639</td>\n",
       "    </tr>\n",
       "    <tr>\n",
       "      <th>4</th>\n",
       "      <td>12.119970</td>\n",
       "    </tr>\n",
       "  </tbody>\n",
       "</table>\n",
       "</div>"
      ],
      "text/plain": [
       "   median_house_value\n",
       "0           11.180246\n",
       "1           12.385473\n",
       "2           12.266697\n",
       "3           12.401639\n",
       "4           12.119970"
      ]
     },
     "execution_count": 3,
     "metadata": {},
     "output_type": "execute_result"
    }
   ],
   "source": [
    "# load the target (remember that the target is transformed with Yeo-Johnson Transformation)\n",
    "y_train = pd.read_csv('ytrain.csv')\n",
    "y_test = pd.read_csv('ytest.csv')\n",
    "\n",
    "y_train.head()"
   ]
  },
  {
   "cell_type": "markdown",
   "id": "480256a3-5c31-4cdd-8add-f9092bcf5686",
   "metadata": {},
   "source": [
    "### Feature Selection\n",
    "\n",
    "Let's go ahead and select a subset of the most predictive features. There is an element of randomness in the Lasso regression, so remember to set the seed."
   ]
  },
  {
   "cell_type": "code",
   "execution_count": 4,
   "id": "e8a0534f-d323-4209-bc75-89bcc228f0da",
   "metadata": {},
   "outputs": [
    {
     "data": {
      "text/plain": [
       "SelectFromModel(estimator=Lasso(alpha=0.001, random_state=0))"
      ]
     },
     "execution_count": 4,
     "metadata": {},
     "output_type": "execute_result"
    }
   ],
   "source": [
    "# We will do the model fitting and feature selection\n",
    "# altogether in a few lines of code\n",
    "\n",
    "# first, we specify the Lasso Regression model, and we\n",
    "# select a suitable alpha (equivalent of penalty).\n",
    "# The bigger the alpha the less features that will be selected.\n",
    "\n",
    "# Then we use the selectFromModel object from sklearn, which\n",
    "# will select automatically the features which coefficients are non-zero\n",
    "\n",
    "# remember to set the seed, the random state in this function\n",
    "sel_ = SelectFromModel(Lasso(alpha=0.001, random_state=0))\n",
    "\n",
    "# train Lasso model and select features\n",
    "sel_.fit(X_train, y_train)"
   ]
  },
  {
   "cell_type": "code",
   "execution_count": 5,
   "id": "6d16e353-684b-48ea-b410-706ff418a9ac",
   "metadata": {},
   "outputs": [
    {
     "data": {
      "text/plain": [
       "12"
      ]
     },
     "execution_count": 5,
     "metadata": {},
     "output_type": "execute_result"
    }
   ],
   "source": [
    "sel_.get_support().sum()"
   ]
  },
  {
   "cell_type": "code",
   "execution_count": 6,
   "id": "0bce6fb4-46c5-4178-9a24-fa4c7838d989",
   "metadata": {},
   "outputs": [
    {
     "data": {
      "text/plain": [
       "array([ True,  True,  True,  True,  True,  True,  True,  True,  True,\n",
       "        True,  True,  True])"
      ]
     },
     "execution_count": 6,
     "metadata": {},
     "output_type": "execute_result"
    }
   ],
   "source": [
    "# let's visualise those features that were selected.\n",
    "# (selected features marked with True)\n",
    "\n",
    "sel_.get_support()"
   ]
  },
  {
   "cell_type": "code",
   "execution_count": 7,
   "id": "436b37c8-75d6-4bbb-bbae-24e0f759d8a1",
   "metadata": {},
   "outputs": [
    {
     "name": "stdout",
     "output_type": "stream",
     "text": [
      "total features: 12\n",
      "selected features: 12\n",
      "features with coefficients shrank to zero: 0\n"
     ]
    }
   ],
   "source": [
    "# let's print the number of total and selected features\n",
    "\n",
    "# this is how we can make a list of the selected features\n",
    "selected_feats = X_train.columns[(sel_.get_support())]\n",
    "\n",
    "# let's print some stats\n",
    "print('total features: {}'.format((X_train.shape[1])))\n",
    "print('selected features: {}'.format(len(selected_feats)))\n",
    "print('features with coefficients shrank to zero: {}'.format(\n",
    "    np.sum(sel_.estimator_.coef_ == 0)))"
   ]
  },
  {
   "cell_type": "code",
   "execution_count": 8,
   "id": "9f71d4fc-2777-4272-ba09-a630128e2ff7",
   "metadata": {},
   "outputs": [
    {
     "data": {
      "text/plain": [
       "Index(['longitude', 'latitude', 'housing_median_age', 'total_rooms',\n",
       "       'population', 'median_income', 'ocean_proximity', 'income_bracket',\n",
       "       'rooms_per_household', 'bedrooms_per_household',\n",
       "       'population_per_household', 'median_income_per_household'],\n",
       "      dtype='object')"
      ]
     },
     "execution_count": 8,
     "metadata": {},
     "output_type": "execute_result"
    }
   ],
   "source": [
    "# print the selected features\n",
    "selected_feats"
   ]
  },
  {
   "cell_type": "code",
   "execution_count": 9,
   "id": "89eb6ab0-bb38-40ad-8d6b-cd63963896d1",
   "metadata": {},
   "outputs": [],
   "source": [
    "pd.Series(selected_feats).to_csv('selected_features.csv', index=False)"
   ]
  },
  {
   "cell_type": "code",
   "execution_count": null,
   "id": "9233d818-e77f-4c5f-9f45-08526029c34e",
   "metadata": {},
   "outputs": [],
   "source": []
  }
 ],
 "metadata": {
  "kernelspec": {
   "display_name": "Python 3 (ipykernel)",
   "language": "python",
   "name": "python3"
  },
  "language_info": {
   "codemirror_mode": {
    "name": "ipython",
    "version": 3
   },
   "file_extension": ".py",
   "mimetype": "text/x-python",
   "name": "python",
   "nbconvert_exporter": "python",
   "pygments_lexer": "ipython3",
   "version": "3.9.7"
  }
 },
 "nbformat": 4,
 "nbformat_minor": 5
}

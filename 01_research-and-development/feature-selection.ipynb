{
 "cells": [
  {
   "cell_type": "markdown",
   "id": "eaff3904-4010-44af-bada-90bff1f3f178",
   "metadata": {},
   "source": [
    "# Machine Learning Pipeline - Feature Selection\n",
    "\n",
    "In this notebook, we pick up the transformed datasets that we saved in the previous notebook.\n",
    "\n",
    "## Reproducibility: Setting the seed\n",
    "\n",
    "With the aim to ensure reproducibility between runs of the same notebook, but also between the research and production environment, for each step that includes some element of randomness, it is extremely important that we **set the seed**."
   ]
  },
  {
   "cell_type": "code",
   "execution_count": 1,
   "id": "bf9134ae-46f9-449b-a0b2-a53cf627951b",
   "metadata": {},
   "outputs": [],
   "source": [
    "# to handle datasets\n",
    "import pandas as pd\n",
    "import numpy as np\n",
    "\n",
    "# for plotting\n",
    "import matplotlib.pyplot as plt\n",
    "\n",
    "# to build the models\n",
    "from sklearn.linear_model import Lasso\n",
    "from sklearn.feature_selection import SelectFromModel\n",
    "\n",
    "# to visualise al the columns in the dataframe\n",
    "pd.pandas.set_option('display.max_columns', None)"
   ]
  },
  {
   "cell_type": "code",
   "execution_count": 2,
   "id": "7e658901-88d6-494c-b71d-fab7a16feaa5",
   "metadata": {},
   "outputs": [
    {
     "data": {
      "text/html": [
       "<div>\n",
       "<style scoped>\n",
       "    .dataframe tbody tr th:only-of-type {\n",
       "        vertical-align: middle;\n",
       "    }\n",
       "\n",
       "    .dataframe tbody tr th {\n",
       "        vertical-align: top;\n",
       "    }\n",
       "\n",
       "    .dataframe thead th {\n",
       "        text-align: right;\n",
       "    }\n",
       "</style>\n",
       "<table border=\"1\" class=\"dataframe\">\n",
       "  <thead>\n",
       "    <tr style=\"text-align: right;\">\n",
       "      <th></th>\n",
       "      <th>longitude</th>\n",
       "      <th>latitude</th>\n",
       "      <th>housing_median_age</th>\n",
       "      <th>total_rooms</th>\n",
       "      <th>population</th>\n",
       "      <th>median_income</th>\n",
       "      <th>ocean_proximity</th>\n",
       "      <th>income_bracket</th>\n",
       "      <th>rooms_per_household</th>\n",
       "      <th>bedrooms_per_household</th>\n",
       "      <th>population_per_household</th>\n",
       "      <th>median_income_per_household</th>\n",
       "    </tr>\n",
       "  </thead>\n",
       "  <tbody>\n",
       "    <tr>\n",
       "      <th>0</th>\n",
       "      <td>-1.372821</td>\n",
       "      <td>0.894943</td>\n",
       "      <td>1.859559</td>\n",
       "      <td>0.211547</td>\n",
       "      <td>-0.434088</td>\n",
       "      <td>1.887371</td>\n",
       "      <td>2.032736</td>\n",
       "      <td>1.692556</td>\n",
       "      <td>1.080911</td>\n",
       "      <td>-0.106259</td>\n",
       "      <td>0.086694</td>\n",
       "      <td>-0.026318</td>\n",
       "    </tr>\n",
       "    <tr>\n",
       "      <th>1</th>\n",
       "      <td>0.657329</td>\n",
       "      <td>-0.780212</td>\n",
       "      <td>0.987199</td>\n",
       "      <td>-1.494151</td>\n",
       "      <td>-0.672195</td>\n",
       "      <td>-1.391316</td>\n",
       "      <td>-0.897604</td>\n",
       "      <td>-0.508495</td>\n",
       "      <td>-0.943396</td>\n",
       "      <td>-0.106259</td>\n",
       "      <td>0.086694</td>\n",
       "      <td>-0.026318</td>\n",
       "    </tr>\n",
       "    <tr>\n",
       "      <th>2</th>\n",
       "      <td>0.772055</td>\n",
       "      <td>-0.719382</td>\n",
       "      <td>1.225115</td>\n",
       "      <td>-0.125347</td>\n",
       "      <td>-0.366916</td>\n",
       "      <td>1.398167</td>\n",
       "      <td>0.079176</td>\n",
       "      <td>1.692556</td>\n",
       "      <td>1.080911</td>\n",
       "      <td>-0.106259</td>\n",
       "      <td>0.086694</td>\n",
       "      <td>-0.026318</td>\n",
       "    </tr>\n",
       "    <tr>\n",
       "      <th>3</th>\n",
       "      <td>-1.302988</td>\n",
       "      <td>0.815397</td>\n",
       "      <td>0.114838</td>\n",
       "      <td>0.248200</td>\n",
       "      <td>-0.282584</td>\n",
       "      <td>2.308039</td>\n",
       "      <td>2.032736</td>\n",
       "      <td>3.893607</td>\n",
       "      <td>1.515660</td>\n",
       "      <td>-0.106259</td>\n",
       "      <td>0.086694</td>\n",
       "      <td>-0.026318</td>\n",
       "    </tr>\n",
       "    <tr>\n",
       "      <th>4</th>\n",
       "      <td>1.166114</td>\n",
       "      <td>-1.065644</td>\n",
       "      <td>-0.916133</td>\n",
       "      <td>-0.418663</td>\n",
       "      <td>-0.212792</td>\n",
       "      <td>-1.089247</td>\n",
       "      <td>-0.897604</td>\n",
       "      <td>-0.508495</td>\n",
       "      <td>-0.943396</td>\n",
       "      <td>-0.106259</td>\n",
       "      <td>0.086694</td>\n",
       "      <td>-0.026318</td>\n",
       "    </tr>\n",
       "  </tbody>\n",
       "</table>\n",
       "</div>"
      ],
      "text/plain": [
       "   longitude  latitude  housing_median_age  total_rooms  population  \\\n",
       "0  -1.372821  0.894943            1.859559     0.211547   -0.434088   \n",
       "1   0.657329 -0.780212            0.987199    -1.494151   -0.672195   \n",
       "2   0.772055 -0.719382            1.225115    -0.125347   -0.366916   \n",
       "3  -1.302988  0.815397            0.114838     0.248200   -0.282584   \n",
       "4   1.166114 -1.065644           -0.916133    -0.418663   -0.212792   \n",
       "\n",
       "   median_income  ocean_proximity  income_bracket  rooms_per_household  \\\n",
       "0       1.887371         2.032736        1.692556             1.080911   \n",
       "1      -1.391316        -0.897604       -0.508495            -0.943396   \n",
       "2       1.398167         0.079176        1.692556             1.080911   \n",
       "3       2.308039         2.032736        3.893607             1.515660   \n",
       "4      -1.089247        -0.897604       -0.508495            -0.943396   \n",
       "\n",
       "   bedrooms_per_household  population_per_household  \\\n",
       "0               -0.106259                  0.086694   \n",
       "1               -0.106259                  0.086694   \n",
       "2               -0.106259                  0.086694   \n",
       "3               -0.106259                  0.086694   \n",
       "4               -0.106259                  0.086694   \n",
       "\n",
       "   median_income_per_household  \n",
       "0                    -0.026318  \n",
       "1                    -0.026318  \n",
       "2                    -0.026318  \n",
       "3                    -0.026318  \n",
       "4                    -0.026318  "
      ]
     },
     "execution_count": 2,
     "metadata": {},
     "output_type": "execute_result"
    }
   ],
   "source": [
    "# load the train and test set with the engineered variables\n",
    "\n",
    "# we built and saved these datasets in the previous notebook.\n",
    "# If you haven't done so, go ahead and check the previous notebook\n",
    "# to find out how to create these datasets\n",
    "\n",
    "X_train = pd.read_csv('xtrain.csv')\n",
    "X_test = pd.read_csv('xtest.csv')\n",
    "\n",
    "X_train.head()"
   ]
  },
  {
   "cell_type": "code",
   "execution_count": 4,
   "id": "c1810142-212c-4d2b-a38d-aa223ce6a29b",
   "metadata": {},
   "outputs": [
    {
     "data": {
      "text/html": [
       "<div>\n",
       "<style scoped>\n",
       "    .dataframe tbody tr th:only-of-type {\n",
       "        vertical-align: middle;\n",
       "    }\n",
       "\n",
       "    .dataframe tbody tr th {\n",
       "        vertical-align: top;\n",
       "    }\n",
       "\n",
       "    .dataframe thead th {\n",
       "        text-align: right;\n",
       "    }\n",
       "</style>\n",
       "<table border=\"1\" class=\"dataframe\">\n",
       "  <thead>\n",
       "    <tr style=\"text-align: right;\">\n",
       "      <th></th>\n",
       "      <th>median_house_value</th>\n",
       "    </tr>\n",
       "  </thead>\n",
       "  <tbody>\n",
       "    <tr>\n",
       "      <th>0</th>\n",
       "      <td>30.324818</td>\n",
       "    </tr>\n",
       "    <tr>\n",
       "      <th>1</th>\n",
       "      <td>23.846476</td>\n",
       "    </tr>\n",
       "    <tr>\n",
       "      <th>2</th>\n",
       "      <td>30.324818</td>\n",
       "    </tr>\n",
       "    <tr>\n",
       "      <th>3</th>\n",
       "      <td>30.324818</td>\n",
       "    </tr>\n",
       "    <tr>\n",
       "      <th>4</th>\n",
       "      <td>24.894438</td>\n",
       "    </tr>\n",
       "  </tbody>\n",
       "</table>\n",
       "</div>"
      ],
      "text/plain": [
       "   median_house_value\n",
       "0           30.324818\n",
       "1           23.846476\n",
       "2           30.324818\n",
       "3           30.324818\n",
       "4           24.894438"
      ]
     },
     "execution_count": 4,
     "metadata": {},
     "output_type": "execute_result"
    }
   ],
   "source": [
    "# load the target (remember that the target is transformed with Yeo-Johnson Transformation)\n",
    "y_train = pd.read_csv('ytrain.csv')\n",
    "y_test = pd.read_csv('ytest.csv')\n",
    "\n",
    "y_train.head()"
   ]
  },
  {
   "cell_type": "markdown",
   "id": "480256a3-5c31-4cdd-8add-f9092bcf5686",
   "metadata": {},
   "source": [
    "### Feature Selection\n",
    "\n",
    "Let's go ahead and select a subset of the most predictive features. There is an element of randomness in the Lasso regression, so remember to set the seed."
   ]
  },
  {
   "cell_type": "code",
   "execution_count": 5,
   "id": "e8a0534f-d323-4209-bc75-89bcc228f0da",
   "metadata": {},
   "outputs": [
    {
     "data": {
      "text/plain": [
       "SelectFromModel(estimator=Lasso(alpha=0.001, random_state=0))"
      ]
     },
     "execution_count": 5,
     "metadata": {},
     "output_type": "execute_result"
    }
   ],
   "source": [
    "# We will do the model fitting and feature selection\n",
    "# altogether in a few lines of code\n",
    "\n",
    "# first, we specify the Lasso Regression model, and we\n",
    "# select a suitable alpha (equivalent of penalty).\n",
    "# The bigger the alpha the less features that will be selected.\n",
    "\n",
    "# Then we use the selectFromModel object from sklearn, which\n",
    "# will select automatically the features which coefficients are non-zero\n",
    "\n",
    "# remember to set the seed, the random state in this function\n",
    "sel_ = SelectFromModel(Lasso(alpha=0.001, random_state=0))\n",
    "\n",
    "# train Lasso model and select features\n",
    "sel_.fit(X_train, y_train)"
   ]
  },
  {
   "cell_type": "code",
   "execution_count": 6,
   "id": "6d16e353-684b-48ea-b410-706ff418a9ac",
   "metadata": {},
   "outputs": [
    {
     "data": {
      "text/plain": [
       "12"
      ]
     },
     "execution_count": 6,
     "metadata": {},
     "output_type": "execute_result"
    }
   ],
   "source": [
    "sel_.get_support().sum()"
   ]
  },
  {
   "cell_type": "code",
   "execution_count": 7,
   "id": "0bce6fb4-46c5-4178-9a24-fa4c7838d989",
   "metadata": {},
   "outputs": [
    {
     "data": {
      "text/plain": [
       "array([ True,  True,  True,  True,  True,  True,  True,  True,  True,\n",
       "        True,  True,  True])"
      ]
     },
     "execution_count": 7,
     "metadata": {},
     "output_type": "execute_result"
    }
   ],
   "source": [
    "# let's visualise those features that were selected.\n",
    "# (selected features marked with True)\n",
    "\n",
    "sel_.get_support()"
   ]
  },
  {
   "cell_type": "code",
   "execution_count": 8,
   "id": "436b37c8-75d6-4bbb-bbae-24e0f759d8a1",
   "metadata": {},
   "outputs": [
    {
     "name": "stdout",
     "output_type": "stream",
     "text": [
      "total features: 12\n",
      "selected features: 12\n",
      "features with coefficients shrank to zero: 0\n"
     ]
    }
   ],
   "source": [
    "# let's print the number of total and selected features\n",
    "\n",
    "# this is how we can make a list of the selected features\n",
    "selected_feats = X_train.columns[(sel_.get_support())]\n",
    "\n",
    "# let's print some stats\n",
    "print('total features: {}'.format((X_train.shape[1])))\n",
    "print('selected features: {}'.format(len(selected_feats)))\n",
    "print('features with coefficients shrank to zero: {}'.format(\n",
    "    np.sum(sel_.estimator_.coef_ == 0)))"
   ]
  },
  {
   "cell_type": "code",
   "execution_count": 9,
   "id": "9f71d4fc-2777-4272-ba09-a630128e2ff7",
   "metadata": {},
   "outputs": [
    {
     "data": {
      "text/plain": [
       "Index(['longitude', 'latitude', 'housing_median_age', 'total_rooms',\n",
       "       'population', 'median_income', 'ocean_proximity', 'income_bracket',\n",
       "       'rooms_per_household', 'bedrooms_per_household',\n",
       "       'population_per_household', 'median_income_per_household'],\n",
       "      dtype='object')"
      ]
     },
     "execution_count": 9,
     "metadata": {},
     "output_type": "execute_result"
    }
   ],
   "source": [
    "# print the selected features\n",
    "selected_feats"
   ]
  },
  {
   "cell_type": "code",
   "execution_count": 10,
   "id": "89eb6ab0-bb38-40ad-8d6b-cd63963896d1",
   "metadata": {},
   "outputs": [],
   "source": [
    "pd.Series(selected_feats).to_csv('selected_features.csv', index=False)"
   ]
  },
  {
   "cell_type": "code",
   "execution_count": null,
   "id": "9233d818-e77f-4c5f-9f45-08526029c34e",
   "metadata": {},
   "outputs": [],
   "source": []
  }
 ],
 "metadata": {
  "kernelspec": {
   "display_name": "Python 3 (ipykernel)",
   "language": "python",
   "name": "python3"
  },
  "language_info": {
   "codemirror_mode": {
    "name": "ipython",
    "version": 3
   },
   "file_extension": ".py",
   "mimetype": "text/x-python",
   "name": "python",
   "nbconvert_exporter": "python",
   "pygments_lexer": "ipython3",
   "version": "3.9.7"
  }
 },
 "nbformat": 4,
 "nbformat_minor": 5
}
